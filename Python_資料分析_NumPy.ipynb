{
  "nbformat": 4,
  "nbformat_minor": 0,
  "metadata": {
    "colab": {
      "provenance": [],
      "toc_visible": true,
      "authorship_tag": "ABX9TyNDff8eid146jT43RuNzAJe",
      "include_colab_link": true
    },
    "kernelspec": {
      "name": "python3",
      "display_name": "Python 3"
    },
    "language_info": {
      "name": "python"
    }
  },
  "cells": [
    {
      "cell_type": "markdown",
      "metadata": {
        "id": "view-in-github",
        "colab_type": "text"
      },
      "source": [
        "<a href=\"https://colab.research.google.com/github/EricMiao01/Python_for_Data_Analysis/blob/main/Python_%E8%B3%87%E6%96%99%E5%88%86%E6%9E%90_NumPy.ipynb\" target=\"_parent\"><img src=\"https://colab.research.google.com/assets/colab-badge.svg\" alt=\"Open In Colab\"/></a>"
      ]
    },
    {
      "cell_type": "markdown",
      "source": [
        "# **NumPy**\n",
        "* data munging, cleaning, subsetting, filtering, transformation\n",
        "* 一般陣列演算法，例如排序、唯一化以及集合運算\n",
        "* 資料對其和關聯資料處理。\n",
        "* 用矩陣表達式取代 if-elif-else\n",
        "* 操作群組資料"
      ],
      "metadata": {
        "id": "d7AYty2_eUvk"
      }
    },
    {
      "cell_type": "code",
      "source": [
        "import numpy as np"
      ],
      "metadata": {
        "id": "VUspAVzAhSOD"
      },
      "execution_count": 1,
      "outputs": []
    },
    {
      "cell_type": "markdown",
      "source": [
        "## **4.1 NumPy ndarray：多維陣列物件**\n",
        "ndarray 是一種通用的同質資料的多維容器，意及所有的勻速型態一定要是一樣的，每個陣列都有一個 shape 以及 dtype 屬性，用來標明維度以及其元素的資料型態。"
      ],
      "metadata": {
        "id": "VuDLhcE9fmCw"
      }
    },
    {
      "cell_type": "code",
      "execution_count": 2,
      "metadata": {
        "colab": {
          "base_uri": "https://localhost:8080/"
        },
        "id": "o0LsxNaOeJoA",
        "outputId": "75953cdc-53c3-4f4e-9994-8677b555efca"
      },
      "outputs": [
        {
          "output_type": "execute_result",
          "data": {
            "text/plain": [
              "array([[ 0.53939495, -0.01557571,  0.57172396],\n",
              "       [ 0.57583762, -0.37396559,  0.39588508]])"
            ]
          },
          "metadata": {},
          "execution_count": 2
        }
      ],
      "source": [
        "# 產生隨機資料\n",
        "data = np.random.randn(2, 3)\n",
        "data"
      ]
    },
    {
      "cell_type": "code",
      "source": [
        "data.shape"
      ],
      "metadata": {
        "colab": {
          "base_uri": "https://localhost:8080/"
        },
        "id": "OdHHtiyUheqS",
        "outputId": "a8cda446-1df5-4c1e-a38a-8056ada53b1e"
      },
      "execution_count": 3,
      "outputs": [
        {
          "output_type": "execute_result",
          "data": {
            "text/plain": [
              "(2, 3)"
            ]
          },
          "metadata": {},
          "execution_count": 3
        }
      ]
    },
    {
      "cell_type": "code",
      "source": [
        "data.dtype"
      ],
      "metadata": {
        "colab": {
          "base_uri": "https://localhost:8080/"
        },
        "id": "XypoWEKoipjs",
        "outputId": "fa14aa1a-c294-4f17-b7ed-dd812b461693"
      },
      "execution_count": 4,
      "outputs": [
        {
          "output_type": "execute_result",
          "data": {
            "text/plain": [
              "dtype('float64')"
            ]
          },
          "metadata": {},
          "execution_count": 4
        }
      ]
    },
    {
      "cell_type": "markdown",
      "source": [
        "### **建立 ndarray**\n",
        "建立陣列最簡單的方法就是使用 array 函式，它可以接受任何序列物件作為參數（包含另一個陣列），並產生新的 NumPy 陣列。"
      ],
      "metadata": {
        "id": "CH90qkEpisrK"
      }
    },
    {
      "cell_type": "code",
      "source": [
        "data1 = [6, 7.5, 8, 9, 10]\n",
        "arr1 = np.array(data1)\n",
        "arr1"
      ],
      "metadata": {
        "colab": {
          "base_uri": "https://localhost:8080/"
        },
        "id": "vsUtceA4iqg0",
        "outputId": "ca0e1215-3644-460e-c3dc-ae9be35e272d"
      },
      "execution_count": 5,
      "outputs": [
        {
          "output_type": "execute_result",
          "data": {
            "text/plain": [
              "array([ 6. ,  7.5,  8. ,  9. , 10. ])"
            ]
          },
          "metadata": {},
          "execution_count": 5
        }
      ]
    },
    {
      "cell_type": "code",
      "source": [
        "data2 = [[1, 2, 3, 4], [5, 6, 7, 8]]\n",
        "arr2 = np.array(data2)\n",
        "arr2"
      ],
      "metadata": {
        "colab": {
          "base_uri": "https://localhost:8080/"
        },
        "id": "HH1koTw8jQJD",
        "outputId": "c27f8639-9362-4b08-ddb8-8d3a2c80763f"
      },
      "execution_count": 6,
      "outputs": [
        {
          "output_type": "execute_result",
          "data": {
            "text/plain": [
              "array([[1, 2, 3, 4],\n",
              "       [5, 6, 7, 8]])"
            ]
          },
          "metadata": {},
          "execution_count": 6
        }
      ]
    },
    {
      "cell_type": "markdown",
      "source": [
        "我們可以使用 ndim 或 shape 屬性來檢查陣列"
      ],
      "metadata": {
        "id": "y0lfsyFQjuq5"
      }
    },
    {
      "cell_type": "code",
      "source": [
        "arr2.ndim"
      ],
      "metadata": {
        "colab": {
          "base_uri": "https://localhost:8080/"
        },
        "id": "6L_3V5qYjc8S",
        "outputId": "d694714c-e02a-46b8-9cd2-622c42596370"
      },
      "execution_count": 7,
      "outputs": [
        {
          "output_type": "execute_result",
          "data": {
            "text/plain": [
              "2"
            ]
          },
          "metadata": {},
          "execution_count": 7
        }
      ]
    },
    {
      "cell_type": "code",
      "source": [
        "arr2.shape"
      ],
      "metadata": {
        "colab": {
          "base_uri": "https://localhost:8080/"
        },
        "id": "awMN2gC7j9ku",
        "outputId": "20bef1ef-5f66-42c4-9ea2-a0c73ccc4b28"
      },
      "execution_count": 8,
      "outputs": [
        {
          "output_type": "execute_result",
          "data": {
            "text/plain": [
              "(2, 4)"
            ]
          },
          "metadata": {},
          "execution_count": 8
        }
      ]
    },
    {
      "cell_type": "markdown",
      "source": [
        "除非明確指明否則 ndarray 會自動為元素設定適當的資料型態"
      ],
      "metadata": {
        "id": "Yk3Ajbndlcqu"
      }
    },
    {
      "cell_type": "code",
      "source": [
        "arr2"
      ],
      "metadata": {
        "colab": {
          "base_uri": "https://localhost:8080/"
        },
        "id": "vG5c9WY1j-uu",
        "outputId": "f95fc4ae-9a0a-434d-8583-af8029d42fd8"
      },
      "execution_count": 9,
      "outputs": [
        {
          "output_type": "execute_result",
          "data": {
            "text/plain": [
              "array([[1, 2, 3, 4],\n",
              "       [5, 6, 7, 8]])"
            ]
          },
          "metadata": {},
          "execution_count": 9
        }
      ]
    },
    {
      "cell_type": "code",
      "source": [
        "arr2.dtype"
      ],
      "metadata": {
        "colab": {
          "base_uri": "https://localhost:8080/"
        },
        "id": "NPOaaskJkVWb",
        "outputId": "65505b3f-ac4b-4773-8c95-2250c7f79409"
      },
      "execution_count": 10,
      "outputs": [
        {
          "output_type": "execute_result",
          "data": {
            "text/plain": [
              "dtype('int64')"
            ]
          },
          "metadata": {},
          "execution_count": 10
        }
      ]
    },
    {
      "cell_type": "markdown",
      "source": [
        "可以使用 zeros 或 ones 建立全部為 1 或 0 的陣列；另外也可以使用 empty 去建立擁有指定為度的陣列，但要注意其元素不見得為 0"
      ],
      "metadata": {
        "id": "eLBff4BYlfim"
      }
    },
    {
      "cell_type": "code",
      "source": [
        "np.zeros(10)"
      ],
      "metadata": {
        "colab": {
          "base_uri": "https://localhost:8080/"
        },
        "id": "a1p_5nxakWuf",
        "outputId": "8b096bf0-3bf3-4c17-d289-a3464b29b5be"
      },
      "execution_count": 11,
      "outputs": [
        {
          "output_type": "execute_result",
          "data": {
            "text/plain": [
              "array([0., 0., 0., 0., 0., 0., 0., 0., 0., 0.])"
            ]
          },
          "metadata": {},
          "execution_count": 11
        }
      ]
    },
    {
      "cell_type": "code",
      "source": [
        "np.ones([3, 6])"
      ],
      "metadata": {
        "colab": {
          "base_uri": "https://localhost:8080/"
        },
        "id": "ST5_7xACl9gu",
        "outputId": "c056459c-ed02-4115-a15b-a918dc0cf6fa"
      },
      "execution_count": 12,
      "outputs": [
        {
          "output_type": "execute_result",
          "data": {
            "text/plain": [
              "array([[1., 1., 1., 1., 1., 1.],\n",
              "       [1., 1., 1., 1., 1., 1.],\n",
              "       [1., 1., 1., 1., 1., 1.]])"
            ]
          },
          "metadata": {},
          "execution_count": 12
        }
      ]
    },
    {
      "cell_type": "code",
      "source": [
        "dim = (2, 3, 2)\n",
        "np.empty(dim)"
      ],
      "metadata": {
        "colab": {
          "base_uri": "https://localhost:8080/"
        },
        "id": "VwXDOR8ql_yT",
        "outputId": "ba9e7870-c9c1-440e-b766-630c70c3cd5c"
      },
      "execution_count": 13,
      "outputs": [
        {
          "output_type": "execute_result",
          "data": {
            "text/plain": [
              "array([[[1.4292347e-316, 0.0000000e+000],\n",
              "        [0.0000000e+000, 0.0000000e+000],\n",
              "        [0.0000000e+000, 0.0000000e+000]],\n",
              "\n",
              "       [[0.0000000e+000, 0.0000000e+000],\n",
              "        [0.0000000e+000, 0.0000000e+000],\n",
              "        [0.0000000e+000, 0.0000000e+000]]])"
            ]
          },
          "metadata": {},
          "execution_count": 13
        }
      ]
    },
    {
      "cell_type": "code",
      "source": [
        "np.arange(15)"
      ],
      "metadata": {
        "colab": {
          "base_uri": "https://localhost:8080/"
        },
        "id": "9AfWrPnKmEc2",
        "outputId": "76f10ae5-ee4c-4757-d679-410a47476b28"
      },
      "execution_count": 14,
      "outputs": [
        {
          "output_type": "execute_result",
          "data": {
            "text/plain": [
              "array([ 0,  1,  2,  3,  4,  5,  6,  7,  8,  9, 10, 11, 12, 13, 14])"
            ]
          },
          "metadata": {},
          "execution_count": 14
        }
      ]
    },
    {
      "cell_type": "markdown",
      "source": [
        "|函式|描述|\n",
        "|:---|:--|\n",
        "|array|數入資料（須為序列型態），轉換為 ndarray，可以使用 dtype 明確指定元素型態，預設複製所有輸入資料|\n",
        "|asarray|將數入轉為 ndarray，但如果輸入已經是一個 ndarray，則不進行資料複製|\n",
        "|arange|功能同內建的 range()，只是回傳的是 ndarray|\n",
        "|ones, ones_like|依照指定的 shape 和 dtype 產生全為 1 的陣列；ones_like 可以數入的另一個陣列產生 shape 和 dtype 皆相同但全為 1 的陣列|\n",
        "|zeros, zeros_like|功能同上，但元素填充為 0|\n",
        "|empty, empty_like|功能同上，但不填充元素|\n",
        "|full, full_like|指定要填充得直，一指定的 shape 和 dtype 建立新陣列|\n",
        "|eye, identity|建立 ＮxN 的單位矩陣（對角線為 1；其餘為 0）|\n"
      ],
      "metadata": {
        "id": "LygIGEnmme9k"
      }
    },
    {
      "cell_type": "markdown",
      "source": [
        "### **ndarray 的資料型態**"
      ],
      "metadata": {
        "id": "J59ZyVA1pJQ9"
      }
    },
    {
      "cell_type": "code",
      "source": [
        "arr = np.arange(5)\n",
        "arr.dtype"
      ],
      "metadata": {
        "id": "q5JM-CJYmOcw",
        "colab": {
          "base_uri": "https://localhost:8080/"
        },
        "outputId": "e943e30f-b588-45ae-8bee-628ce93138a1"
      },
      "execution_count": 15,
      "outputs": [
        {
          "output_type": "execute_result",
          "data": {
            "text/plain": [
              "dtype('int64')"
            ]
          },
          "metadata": {},
          "execution_count": 15
        }
      ]
    },
    {
      "cell_type": "code",
      "source": [
        "float_arr = arr.astype(np.float64)\n",
        "float_arr.dtype"
      ],
      "metadata": {
        "colab": {
          "base_uri": "https://localhost:8080/"
        },
        "id": "65HIsbJprPrK",
        "outputId": "4ba4a84f-901b-47e7-98d3-43ffe3146c60"
      },
      "execution_count": 16,
      "outputs": [
        {
          "output_type": "execute_result",
          "data": {
            "text/plain": [
              "dtype('float64')"
            ]
          },
          "metadata": {},
          "execution_count": 16
        }
      ]
    },
    {
      "cell_type": "code",
      "source": [
        "arr = np.array([3.7, -1.2, -2.6, 0.5])\n",
        "arr"
      ],
      "metadata": {
        "colab": {
          "base_uri": "https://localhost:8080/"
        },
        "id": "7EMONJS4rXqt",
        "outputId": "a6e92a1f-90f6-44d3-ad33-cd3802c5e131"
      },
      "execution_count": 17,
      "outputs": [
        {
          "output_type": "execute_result",
          "data": {
            "text/plain": [
              "array([ 3.7, -1.2, -2.6,  0.5])"
            ]
          },
          "metadata": {},
          "execution_count": 17
        }
      ]
    },
    {
      "cell_type": "code",
      "source": [
        "# 浮點數轉換成整數：小數部分會被截掉\n",
        "arr.astype(np.int32)"
      ],
      "metadata": {
        "colab": {
          "base_uri": "https://localhost:8080/"
        },
        "id": "UJqTRbkBriI9",
        "outputId": "6bdd1b2c-57dd-4091-e3c0-457d445ee5a4"
      },
      "execution_count": 18,
      "outputs": [
        {
          "output_type": "execute_result",
          "data": {
            "text/plain": [
              "array([ 3, -1, -2,  0], dtype=int32)"
            ]
          },
          "metadata": {},
          "execution_count": 18
        }
      ]
    },
    {
      "cell_type": "markdown",
      "source": [
        "### **NumPy 陣列的算術運算**"
      ],
      "metadata": {
        "id": "TRfsppgJr42l"
      }
    },
    {
      "cell_type": "code",
      "source": [
        "arr = np.array([[1, 2, 3], [4, 5, 6]])\n",
        "arr"
      ],
      "metadata": {
        "colab": {
          "base_uri": "https://localhost:8080/"
        },
        "id": "fQe7-Eh9rsJW",
        "outputId": "f52e606c-de77-479c-a480-f0aa152dbea7"
      },
      "execution_count": 19,
      "outputs": [
        {
          "output_type": "execute_result",
          "data": {
            "text/plain": [
              "array([[1, 2, 3],\n",
              "       [4, 5, 6]])"
            ]
          },
          "metadata": {},
          "execution_count": 19
        }
      ]
    },
    {
      "cell_type": "code",
      "source": [
        "arr * arr"
      ],
      "metadata": {
        "colab": {
          "base_uri": "https://localhost:8080/"
        },
        "id": "QCo0DWX3sPLS",
        "outputId": "e1422a9a-feb7-40fe-a492-48be9ca2d670"
      },
      "execution_count": 20,
      "outputs": [
        {
          "output_type": "execute_result",
          "data": {
            "text/plain": [
              "array([[ 1,  4,  9],\n",
              "       [16, 25, 36]])"
            ]
          },
          "metadata": {},
          "execution_count": 20
        }
      ]
    },
    {
      "cell_type": "code",
      "source": [
        "arr - arr"
      ],
      "metadata": {
        "colab": {
          "base_uri": "https://localhost:8080/"
        },
        "id": "M-7CA7Cvso9L",
        "outputId": "5019d5bb-6d81-4158-c1e2-4d0de9445d72"
      },
      "execution_count": 21,
      "outputs": [
        {
          "output_type": "execute_result",
          "data": {
            "text/plain": [
              "array([[0, 0, 0],\n",
              "       [0, 0, 0]])"
            ]
          },
          "metadata": {},
          "execution_count": 21
        }
      ]
    },
    {
      "cell_type": "code",
      "source": [
        "# 若與常數運算的話是對每個元素都操作同樣的運算\n",
        "arr + 1"
      ],
      "metadata": {
        "colab": {
          "base_uri": "https://localhost:8080/"
        },
        "id": "KwhpK1_0sqJ9",
        "outputId": "b4c10f5a-9d4c-46fb-a173-2b8b6580fcc8"
      },
      "execution_count": 22,
      "outputs": [
        {
          "output_type": "execute_result",
          "data": {
            "text/plain": [
              "array([[2, 3, 4],\n",
              "       [5, 6, 7]])"
            ]
          },
          "metadata": {},
          "execution_count": 22
        }
      ]
    },
    {
      "cell_type": "code",
      "source": [
        "# 對兩個相等大小的陣列進行比較的話，就會產生出一個布林陣列\n",
        "arr2 = np.array([[0., 4., 1.], [7, 2, 12.]])\n",
        "arr2"
      ],
      "metadata": {
        "colab": {
          "base_uri": "https://localhost:8080/"
        },
        "id": "uXk2Xppksyvy",
        "outputId": "469f7b1b-64e1-42b4-ae69-df52d3fc3ebb"
      },
      "execution_count": 23,
      "outputs": [
        {
          "output_type": "execute_result",
          "data": {
            "text/plain": [
              "array([[ 0.,  4.,  1.],\n",
              "       [ 7.,  2., 12.]])"
            ]
          },
          "metadata": {},
          "execution_count": 23
        }
      ]
    },
    {
      "cell_type": "code",
      "source": [
        "arr2 > arr"
      ],
      "metadata": {
        "colab": {
          "base_uri": "https://localhost:8080/"
        },
        "id": "ubi5YLhstLRt",
        "outputId": "0386397c-2186-4440-8d5b-f1ee2889e43a"
      },
      "execution_count": 24,
      "outputs": [
        {
          "output_type": "execute_result",
          "data": {
            "text/plain": [
              "array([[False,  True, False],\n",
              "       [ True, False,  True]])"
            ]
          },
          "metadata": {},
          "execution_count": 24
        }
      ]
    },
    {
      "cell_type": "markdown",
      "source": [
        "### **基本索引和切片**"
      ],
      "metadata": {
        "id": "gICS46DvtWq2"
      }
    },
    {
      "cell_type": "code",
      "source": [
        "arr = np.arange(10)\n",
        "arr"
      ],
      "metadata": {
        "colab": {
          "base_uri": "https://localhost:8080/"
        },
        "id": "4pK5GpkBtOKW",
        "outputId": "61ba7cd9-ce9c-4c7f-9546-deac2be14831"
      },
      "execution_count": 25,
      "outputs": [
        {
          "output_type": "execute_result",
          "data": {
            "text/plain": [
              "array([0, 1, 2, 3, 4, 5, 6, 7, 8, 9])"
            ]
          },
          "metadata": {},
          "execution_count": 25
        }
      ]
    },
    {
      "cell_type": "code",
      "source": [
        "arr[5]"
      ],
      "metadata": {
        "colab": {
          "base_uri": "https://localhost:8080/"
        },
        "id": "rtMzS_upuC9a",
        "outputId": "d6795403-e9dc-47de-c38d-ea2fc36e65ce"
      },
      "execution_count": 26,
      "outputs": [
        {
          "output_type": "execute_result",
          "data": {
            "text/plain": [
              "5"
            ]
          },
          "metadata": {},
          "execution_count": 26
        }
      ]
    },
    {
      "cell_type": "code",
      "source": [
        "arr[5:8]"
      ],
      "metadata": {
        "colab": {
          "base_uri": "https://localhost:8080/"
        },
        "id": "qmvwDkfHuEmr",
        "outputId": "8832c862-b5be-4a52-d5f5-126df2e3963a"
      },
      "execution_count": 27,
      "outputs": [
        {
          "output_type": "execute_result",
          "data": {
            "text/plain": [
              "array([5, 6, 7])"
            ]
          },
          "metadata": {},
          "execution_count": 27
        }
      ]
    },
    {
      "cell_type": "code",
      "source": [
        "arr[5:8] = 12"
      ],
      "metadata": {
        "id": "rP-Y4_-vuJ16"
      },
      "execution_count": 28,
      "outputs": []
    },
    {
      "cell_type": "code",
      "source": [
        "arr"
      ],
      "metadata": {
        "colab": {
          "base_uri": "https://localhost:8080/"
        },
        "id": "1MJmrE9BuPmo",
        "outputId": "fabc3acf-d672-48d0-e23d-e9ca0a397278"
      },
      "execution_count": 29,
      "outputs": [
        {
          "output_type": "execute_result",
          "data": {
            "text/plain": [
              "array([ 0,  1,  2,  3,  4, 12, 12, 12,  8,  9])"
            ]
          },
          "metadata": {},
          "execution_count": 29
        }
      ]
    },
    {
      "cell_type": "markdown",
      "source": [
        "若將長數值指定給某個切片的話，該常值就會傳播到整個切片區域。<br>\n",
        "**這裡和 Python 內建 list 有個重要的區分：陣列切片是在原來的陣列上建立一個 view 而已，意思是資料其實是同一份，並且在切片上修該資料的話會同時修改到原來陣列的內容！**"
      ],
      "metadata": {
        "id": "x1J01evSuRhH"
      }
    },
    {
      "cell_type": "code",
      "source": [
        "arr_slice = arr[5:8]\n",
        "arr_slice"
      ],
      "metadata": {
        "colab": {
          "base_uri": "https://localhost:8080/"
        },
        "id": "Ogg93CvIuQFz",
        "outputId": "a3261fb4-315d-44e1-ec35-49e18d57cc64"
      },
      "execution_count": 30,
      "outputs": [
        {
          "output_type": "execute_result",
          "data": {
            "text/plain": [
              "array([12, 12, 12])"
            ]
          },
          "metadata": {},
          "execution_count": 30
        }
      ]
    },
    {
      "cell_type": "code",
      "source": [
        "arr_slice[1] = 13\n",
        "arr"
      ],
      "metadata": {
        "colab": {
          "base_uri": "https://localhost:8080/"
        },
        "id": "6y6sWF93u51d",
        "outputId": "04a62a62-df26-4dc7-f444-801fe01dc009"
      },
      "execution_count": 31,
      "outputs": [
        {
          "output_type": "execute_result",
          "data": {
            "text/plain": [
              "array([ 0,  1,  2,  3,  4, 12, 13, 12,  8,  9])"
            ]
          },
          "metadata": {},
          "execution_count": 31
        }
      ]
    },
    {
      "cell_type": "markdown",
      "source": [
        "更高維度的操作"
      ],
      "metadata": {
        "id": "VB23qy-dviLQ"
      }
    },
    {
      "cell_type": "code",
      "source": [
        "arr2d = np.array([[1, 2, 3], [4, 5, 6], [7, 8, 9]])\n",
        "arr2d"
      ],
      "metadata": {
        "colab": {
          "base_uri": "https://localhost:8080/"
        },
        "id": "aRDaJzpwu787",
        "outputId": "2ce235c2-e6c3-4c45-c3b6-c0f770934f67"
      },
      "execution_count": 32,
      "outputs": [
        {
          "output_type": "execute_result",
          "data": {
            "text/plain": [
              "array([[1, 2, 3],\n",
              "       [4, 5, 6],\n",
              "       [7, 8, 9]])"
            ]
          },
          "metadata": {},
          "execution_count": 32
        }
      ]
    },
    {
      "cell_type": "code",
      "source": [
        "arr2d[2]"
      ],
      "metadata": {
        "colab": {
          "base_uri": "https://localhost:8080/"
        },
        "id": "afE6yGNyvslF",
        "outputId": "84af0ba7-ca46-46f5-b5c8-3a3f62da46aa"
      },
      "execution_count": 33,
      "outputs": [
        {
          "output_type": "execute_result",
          "data": {
            "text/plain": [
              "array([7, 8, 9])"
            ]
          },
          "metadata": {},
          "execution_count": 33
        }
      ]
    },
    {
      "cell_type": "code",
      "source": [
        "arr2d[0, 2]"
      ],
      "metadata": {
        "colab": {
          "base_uri": "https://localhost:8080/"
        },
        "id": "ag3BcPa8vxke",
        "outputId": "4a0eca1f-7dfe-4ee9-b7a1-8cb9701b1d5a"
      },
      "execution_count": 34,
      "outputs": [
        {
          "output_type": "execute_result",
          "data": {
            "text/plain": [
              "3"
            ]
          },
          "metadata": {},
          "execution_count": 34
        }
      ]
    },
    {
      "cell_type": "code",
      "source": [
        "arr2d[0, 1:]"
      ],
      "metadata": {
        "colab": {
          "base_uri": "https://localhost:8080/"
        },
        "id": "BVNe94wDvzp4",
        "outputId": "c0a6548a-dec8-44dc-c863-a28b4aaa4f44"
      },
      "execution_count": 35,
      "outputs": [
        {
          "output_type": "execute_result",
          "data": {
            "text/plain": [
              "array([2, 3])"
            ]
          },
          "metadata": {},
          "execution_count": 35
        }
      ]
    },
    {
      "cell_type": "code",
      "source": [
        "arr3d = np.array([[[1, 2, 3], [4, 5, 6]], [[7, 8, 9], [10, 11, 12]]])\n",
        "arr3d"
      ],
      "metadata": {
        "id": "P6q2P9-Bv3zd",
        "colab": {
          "base_uri": "https://localhost:8080/"
        },
        "outputId": "5449ca9f-0ca9-4f1b-8de0-a285ba1fac78"
      },
      "execution_count": 36,
      "outputs": [
        {
          "output_type": "execute_result",
          "data": {
            "text/plain": [
              "array([[[ 1,  2,  3],\n",
              "        [ 4,  5,  6]],\n",
              "\n",
              "       [[ 7,  8,  9],\n",
              "        [10, 11, 12]]])"
            ]
          },
          "metadata": {},
          "execution_count": 36
        }
      ]
    },
    {
      "cell_type": "code",
      "source": [
        "arr3d[0]"
      ],
      "metadata": {
        "colab": {
          "base_uri": "https://localhost:8080/"
        },
        "id": "ieVgFkKuxbH5",
        "outputId": "3f3ef778-8307-4225-8f94-158c37cdb290"
      },
      "execution_count": 37,
      "outputs": [
        {
          "output_type": "execute_result",
          "data": {
            "text/plain": [
              "array([[1, 2, 3],\n",
              "       [4, 5, 6]])"
            ]
          },
          "metadata": {},
          "execution_count": 37
        }
      ]
    },
    {
      "cell_type": "code",
      "source": [
        "old_values = arr3d[0].copy()\n",
        "arr3d[0] = 42"
      ],
      "metadata": {
        "id": "EfaYn9ZGxnYF"
      },
      "execution_count": 38,
      "outputs": []
    },
    {
      "cell_type": "code",
      "source": [
        "arr3d"
      ],
      "metadata": {
        "colab": {
          "base_uri": "https://localhost:8080/"
        },
        "id": "cfjJom4Mx49t",
        "outputId": "7d5868e1-79b3-4417-ff11-e2760cdf13e9"
      },
      "execution_count": 39,
      "outputs": [
        {
          "output_type": "execute_result",
          "data": {
            "text/plain": [
              "array([[[42, 42, 42],\n",
              "        [42, 42, 42]],\n",
              "\n",
              "       [[ 7,  8,  9],\n",
              "        [10, 11, 12]]])"
            ]
          },
          "metadata": {},
          "execution_count": 39
        }
      ]
    },
    {
      "cell_type": "code",
      "source": [
        "arr3d[0] = old_values"
      ],
      "metadata": {
        "id": "Anl5kdTVx9XM"
      },
      "execution_count": 40,
      "outputs": []
    },
    {
      "cell_type": "code",
      "source": [
        "arr3d"
      ],
      "metadata": {
        "colab": {
          "base_uri": "https://localhost:8080/"
        },
        "id": "kl6epovzyBnC",
        "outputId": "5187b4e6-1645-4cae-898c-d7a277e36f6f"
      },
      "execution_count": 41,
      "outputs": [
        {
          "output_type": "execute_result",
          "data": {
            "text/plain": [
              "array([[[ 1,  2,  3],\n",
              "        [ 4,  5,  6]],\n",
              "\n",
              "       [[ 7,  8,  9],\n",
              "        [10, 11, 12]]])"
            ]
          },
          "metadata": {},
          "execution_count": 41
        }
      ]
    },
    {
      "cell_type": "code",
      "source": [
        "arr3d[0, 0, 2]"
      ],
      "metadata": {
        "colab": {
          "base_uri": "https://localhost:8080/"
        },
        "id": "_q070oRmyFe4",
        "outputId": "7da1ae1b-6702-4ec7-9922-0f670477fd5a"
      },
      "execution_count": 42,
      "outputs": [
        {
          "output_type": "execute_result",
          "data": {
            "text/plain": [
              "3"
            ]
          },
          "metadata": {},
          "execution_count": 42
        }
      ]
    },
    {
      "cell_type": "markdown",
      "source": [
        "### **使用切片作為索引**"
      ],
      "metadata": {
        "id": "1M8HLZqSycRs"
      }
    },
    {
      "cell_type": "code",
      "source": [
        "arr2d = np.arange(9).reshape((3, 3)) + 1\n",
        "arr2d"
      ],
      "metadata": {
        "colab": {
          "base_uri": "https://localhost:8080/"
        },
        "id": "Io83oUiVyPhZ",
        "outputId": "3406f4e6-bc30-493b-d1bb-3a97b325b720"
      },
      "execution_count": 43,
      "outputs": [
        {
          "output_type": "execute_result",
          "data": {
            "text/plain": [
              "array([[1, 2, 3],\n",
              "       [4, 5, 6],\n",
              "       [7, 8, 9]])"
            ]
          },
          "metadata": {},
          "execution_count": 43
        }
      ]
    },
    {
      "cell_type": "code",
      "source": [
        "arr2d[:2]"
      ],
      "metadata": {
        "colab": {
          "base_uri": "https://localhost:8080/"
        },
        "id": "OKgwltASy7Ug",
        "outputId": "9c480264-b91f-49c7-d1bb-fbe2b8dff126"
      },
      "execution_count": 44,
      "outputs": [
        {
          "output_type": "execute_result",
          "data": {
            "text/plain": [
              "array([[1, 2, 3],\n",
              "       [4, 5, 6]])"
            ]
          },
          "metadata": {},
          "execution_count": 44
        }
      ]
    },
    {
      "cell_type": "code",
      "source": [
        "arr2d[:2, 1:]"
      ],
      "metadata": {
        "colab": {
          "base_uri": "https://localhost:8080/"
        },
        "id": "bl-jvsuey9vI",
        "outputId": "371141df-298d-4ba8-fe36-138a1245ba69"
      },
      "execution_count": 45,
      "outputs": [
        {
          "output_type": "execute_result",
          "data": {
            "text/plain": [
              "array([[2, 3],\n",
              "       [5, 6]])"
            ]
          },
          "metadata": {},
          "execution_count": 45
        }
      ]
    },
    {
      "cell_type": "markdown",
      "source": [
        "### **布林索引**"
      ],
      "metadata": {
        "id": "1BT5UGagzPzn"
      }
    },
    {
      "cell_type": "code",
      "source": [
        "names = np.array(['Bob', 'Joe', 'Will', 'Bob', 'Will', 'Joe', 'Joe'])\n",
        "data = np.random.randn(7, 4)"
      ],
      "metadata": {
        "id": "kYevK6KfzEzr"
      },
      "execution_count": 46,
      "outputs": []
    },
    {
      "cell_type": "code",
      "source": [
        "names"
      ],
      "metadata": {
        "colab": {
          "base_uri": "https://localhost:8080/"
        },
        "id": "9AH4DuQQzkqZ",
        "outputId": "ffcc0c1c-0fcd-4ce1-ec8e-7b7a59fd197b"
      },
      "execution_count": 47,
      "outputs": [
        {
          "output_type": "execute_result",
          "data": {
            "text/plain": [
              "array(['Bob', 'Joe', 'Will', 'Bob', 'Will', 'Joe', 'Joe'], dtype='<U4')"
            ]
          },
          "metadata": {},
          "execution_count": 47
        }
      ]
    },
    {
      "cell_type": "code",
      "source": [
        "data"
      ],
      "metadata": {
        "colab": {
          "base_uri": "https://localhost:8080/"
        },
        "id": "ufwRUVXmzlmh",
        "outputId": "f66ad6c6-6ad9-4493-e01e-4f01301e2c5b"
      },
      "execution_count": 48,
      "outputs": [
        {
          "output_type": "execute_result",
          "data": {
            "text/plain": [
              "array([[ 0.63425026,  0.5166234 ,  0.44849297,  0.67670189],\n",
              "       [ 0.91111078,  1.21696097, -0.65092446, -0.15990578],\n",
              "       [ 0.06735058, -0.77097742, -0.92553789, -1.55873221],\n",
              "       [-0.92984972,  1.34970395, -0.46106221, -0.01436746],\n",
              "       [-1.49127542, -1.35239702,  0.89053788, -0.39857679],\n",
              "       [-1.35389166, -0.19998722,  1.31826922, -1.29036819],\n",
              "       [-1.56350835,  0.60329418, -0.10916375,  0.60872404]])"
            ]
          },
          "metadata": {},
          "execution_count": 48
        }
      ]
    },
    {
      "cell_type": "code",
      "source": [
        "names == 'Bob'"
      ],
      "metadata": {
        "colab": {
          "base_uri": "https://localhost:8080/"
        },
        "id": "sSDoGESzzmRf",
        "outputId": "8a76fe1c-1f18-4e53-a7a6-4720241d328e"
      },
      "execution_count": 49,
      "outputs": [
        {
          "output_type": "execute_result",
          "data": {
            "text/plain": [
              "array([ True, False, False,  True, False, False, False])"
            ]
          },
          "metadata": {},
          "execution_count": 49
        }
      ]
    },
    {
      "cell_type": "code",
      "source": [
        "data[names == 'Bob']"
      ],
      "metadata": {
        "colab": {
          "base_uri": "https://localhost:8080/"
        },
        "id": "u8YTHfcQz5da",
        "outputId": "be67a21a-2d51-4eb6-ea52-cc92720339ce"
      },
      "execution_count": 50,
      "outputs": [
        {
          "output_type": "execute_result",
          "data": {
            "text/plain": [
              "array([[ 0.63425026,  0.5166234 ,  0.44849297,  0.67670189],\n",
              "       [-0.92984972,  1.34970395, -0.46106221, -0.01436746]])"
            ]
          },
          "metadata": {},
          "execution_count": 50
        }
      ]
    },
    {
      "cell_type": "code",
      "source": [
        "data[names == 'Bob', 2:]"
      ],
      "metadata": {
        "colab": {
          "base_uri": "https://localhost:8080/"
        },
        "id": "OLHtCjjQz7Xv",
        "outputId": "ba3d9d5c-6a9a-48cc-bda8-258a65340fca"
      },
      "execution_count": 51,
      "outputs": [
        {
          "output_type": "execute_result",
          "data": {
            "text/plain": [
              "array([[ 0.44849297,  0.67670189],\n",
              "       [-0.46106221, -0.01436746]])"
            ]
          },
          "metadata": {},
          "execution_count": 51
        }
      ]
    },
    {
      "cell_type": "code",
      "source": [
        "data[names == 'Bob', 3]"
      ],
      "metadata": {
        "colab": {
          "base_uri": "https://localhost:8080/"
        },
        "id": "ZLRdv1640Aui",
        "outputId": "20875b7b-d5e4-42c9-ed1a-ec8875b5cb58"
      },
      "execution_count": 52,
      "outputs": [
        {
          "output_type": "execute_result",
          "data": {
            "text/plain": [
              "array([ 0.67670189, -0.01436746])"
            ]
          },
          "metadata": {},
          "execution_count": 52
        }
      ]
    },
    {
      "cell_type": "code",
      "source": [
        "# 若要選取相反遙見可以使用 != 或是 ~\n",
        "data[~(names == 'Bob')]"
      ],
      "metadata": {
        "colab": {
          "base_uri": "https://localhost:8080/"
        },
        "id": "AZ7w6p-t0NVQ",
        "outputId": "08317be2-e68c-47b8-e6ff-e4bab2cf6eda"
      },
      "execution_count": 53,
      "outputs": [
        {
          "output_type": "execute_result",
          "data": {
            "text/plain": [
              "array([[ 0.91111078,  1.21696097, -0.65092446, -0.15990578],\n",
              "       [ 0.06735058, -0.77097742, -0.92553789, -1.55873221],\n",
              "       [-1.49127542, -1.35239702,  0.89053788, -0.39857679],\n",
              "       [-1.35389166, -0.19998722,  1.31826922, -1.29036819],\n",
              "       [-1.56350835,  0.60329418, -0.10916375,  0.60872404]])"
            ]
          },
          "metadata": {},
          "execution_count": 53
        }
      ]
    },
    {
      "cell_type": "code",
      "source": [
        "# 多條件時可以使用集合運算子 & （且）；|（或）\n",
        "mask = (names == 'Bob') | (names == 'Will')"
      ],
      "metadata": {
        "id": "Kx7-vGeE0ZB6"
      },
      "execution_count": 54,
      "outputs": []
    },
    {
      "cell_type": "code",
      "source": [
        "mask"
      ],
      "metadata": {
        "colab": {
          "base_uri": "https://localhost:8080/"
        },
        "id": "bD21LZrp027e",
        "outputId": "e06f5ccf-dae9-414c-c5b2-ad177583521a"
      },
      "execution_count": 55,
      "outputs": [
        {
          "output_type": "execute_result",
          "data": {
            "text/plain": [
              "array([ True, False,  True,  True,  True, False, False])"
            ]
          },
          "metadata": {},
          "execution_count": 55
        }
      ]
    },
    {
      "cell_type": "code",
      "source": [
        "data[mask]"
      ],
      "metadata": {
        "colab": {
          "base_uri": "https://localhost:8080/"
        },
        "id": "AJAS3vpe05fx",
        "outputId": "3c345897-4c42-46fb-e9bd-60351f81f7b5"
      },
      "execution_count": 56,
      "outputs": [
        {
          "output_type": "execute_result",
          "data": {
            "text/plain": [
              "array([[ 0.63425026,  0.5166234 ,  0.44849297,  0.67670189],\n",
              "       [ 0.06735058, -0.77097742, -0.92553789, -1.55873221],\n",
              "       [-0.92984972,  1.34970395, -0.46106221, -0.01436746],\n",
              "       [-1.49127542, -1.35239702,  0.89053788, -0.39857679]])"
            ]
          },
          "metadata": {},
          "execution_count": 56
        }
      ]
    },
    {
      "cell_type": "markdown",
      "source": [
        "### **花式索引**"
      ],
      "metadata": {
        "id": "2jPSPfaAHulo"
      }
    },
    {
      "cell_type": "code",
      "source": [
        "arr = np.empty((8, 4))"
      ],
      "metadata": {
        "id": "0p2kqkHw08qe"
      },
      "execution_count": 57,
      "outputs": []
    },
    {
      "cell_type": "code",
      "source": [
        "for i in range(8):\n",
        "    arr[i] = i"
      ],
      "metadata": {
        "id": "4cXved91IM4J"
      },
      "execution_count": 58,
      "outputs": []
    },
    {
      "cell_type": "code",
      "source": [
        "arr"
      ],
      "metadata": {
        "colab": {
          "base_uri": "https://localhost:8080/"
        },
        "id": "XqCkXahoIS6q",
        "outputId": "8141ba48-54b4-416e-c202-46403e7d909b"
      },
      "execution_count": 59,
      "outputs": [
        {
          "output_type": "execute_result",
          "data": {
            "text/plain": [
              "array([[0., 0., 0., 0.],\n",
              "       [1., 1., 1., 1.],\n",
              "       [2., 2., 2., 2.],\n",
              "       [3., 3., 3., 3.],\n",
              "       [4., 4., 4., 4.],\n",
              "       [5., 5., 5., 5.],\n",
              "       [6., 6., 6., 6.],\n",
              "       [7., 7., 7., 7.]])"
            ]
          },
          "metadata": {},
          "execution_count": 59
        }
      ]
    },
    {
      "cell_type": "code",
      "source": [
        "# 若想按照特定順序選取列，可以傳入一個指定順序的 list 或 ndarray\n",
        "arr[[4, 3, 0, 6]]"
      ],
      "metadata": {
        "colab": {
          "base_uri": "https://localhost:8080/"
        },
        "id": "9ZeuFWpnIT5h",
        "outputId": "de749ba0-a68a-4b71-cfeb-8eb7ba8e4fc6"
      },
      "execution_count": 60,
      "outputs": [
        {
          "output_type": "execute_result",
          "data": {
            "text/plain": [
              "array([[4., 4., 4., 4.],\n",
              "       [3., 3., 3., 3.],\n",
              "       [0., 0., 0., 0.],\n",
              "       [6., 6., 6., 6.]])"
            ]
          },
          "metadata": {},
          "execution_count": 60
        }
      ]
    },
    {
      "cell_type": "code",
      "source": [
        "arr[[-3, -5, -7]]"
      ],
      "metadata": {
        "colab": {
          "base_uri": "https://localhost:8080/"
        },
        "id": "SJzRbTD5IrZc",
        "outputId": "90b55245-0173-4780-a0fa-f52fda3c35c6"
      },
      "execution_count": 61,
      "outputs": [
        {
          "output_type": "execute_result",
          "data": {
            "text/plain": [
              "array([[5., 5., 5., 5.],\n",
              "       [3., 3., 3., 3.],\n",
              "       [1., 1., 1., 1.]])"
            ]
          },
          "metadata": {},
          "execution_count": 61
        }
      ]
    },
    {
      "cell_type": "code",
      "source": [
        "arr = np.arange(32).reshape((8, 4))\n",
        "arr"
      ],
      "metadata": {
        "colab": {
          "base_uri": "https://localhost:8080/"
        },
        "id": "8g0ElgSyIuq3",
        "outputId": "cdc5d183-542c-4d69-ee4c-6ea85752c0a8"
      },
      "execution_count": 62,
      "outputs": [
        {
          "output_type": "execute_result",
          "data": {
            "text/plain": [
              "array([[ 0,  1,  2,  3],\n",
              "       [ 4,  5,  6,  7],\n",
              "       [ 8,  9, 10, 11],\n",
              "       [12, 13, 14, 15],\n",
              "       [16, 17, 18, 19],\n",
              "       [20, 21, 22, 23],\n",
              "       [24, 25, 26, 27],\n",
              "       [28, 29, 30, 31]])"
            ]
          },
          "metadata": {},
          "execution_count": 62
        }
      ]
    },
    {
      "cell_type": "code",
      "source": [
        "arr[[1, 5, 7, 2], [0, 3, 1, 2]]"
      ],
      "metadata": {
        "colab": {
          "base_uri": "https://localhost:8080/"
        },
        "id": "fcIyw_nNJFJO",
        "outputId": "ae6695b3-d2dc-4d41-d546-e54ca958b136"
      },
      "execution_count": 63,
      "outputs": [
        {
          "output_type": "execute_result",
          "data": {
            "text/plain": [
              "array([ 4, 23, 29, 10])"
            ]
          },
          "metadata": {},
          "execution_count": 63
        }
      ]
    },
    {
      "cell_type": "markdown",
      "source": [
        "上面的程式碼實際上是將 (1, 0) (5, 3) (7, 1) (2, 2) 的元素取出，**而非下列這種的方形區域**"
      ],
      "metadata": {
        "id": "unuqVTlLJed2"
      }
    },
    {
      "cell_type": "code",
      "source": [
        "arr[[1, 5, 7, 2]][:, [0, 3, 1, 2]]"
      ],
      "metadata": {
        "colab": {
          "base_uri": "https://localhost:8080/"
        },
        "id": "sQRdIGbZJJUI",
        "outputId": "a59b3e27-e4f3-4a3d-81ac-2bdd4af56e7a"
      },
      "execution_count": 64,
      "outputs": [
        {
          "output_type": "execute_result",
          "data": {
            "text/plain": [
              "array([[ 4,  7,  5,  6],\n",
              "       [20, 23, 21, 22],\n",
              "       [28, 31, 29, 30],\n",
              "       [ 8, 11,  9, 10]])"
            ]
          },
          "metadata": {},
          "execution_count": 64
        }
      ]
    },
    {
      "cell_type": "markdown",
      "source": [
        "### **轉置陣列及軸交換**"
      ],
      "metadata": {
        "id": "W_v2tGtPKKcq"
      }
    },
    {
      "cell_type": "code",
      "source": [
        "arr = np.arange(15).reshape((3, 5))\n",
        "arr"
      ],
      "metadata": {
        "colab": {
          "base_uri": "https://localhost:8080/"
        },
        "id": "Uo7eLaxRJ_4X",
        "outputId": "f23aca51-32d6-4b8a-dd83-084a67424143"
      },
      "execution_count": 65,
      "outputs": [
        {
          "output_type": "execute_result",
          "data": {
            "text/plain": [
              "array([[ 0,  1,  2,  3,  4],\n",
              "       [ 5,  6,  7,  8,  9],\n",
              "       [10, 11, 12, 13, 14]])"
            ]
          },
          "metadata": {},
          "execution_count": 65
        }
      ]
    },
    {
      "cell_type": "code",
      "source": [
        "arr.T"
      ],
      "metadata": {
        "colab": {
          "base_uri": "https://localhost:8080/"
        },
        "id": "hh4yFL_mKZWm",
        "outputId": "525d78fd-48d2-4e67-f039-6f4e397c6031"
      },
      "execution_count": 66,
      "outputs": [
        {
          "output_type": "execute_result",
          "data": {
            "text/plain": [
              "array([[ 0,  5, 10],\n",
              "       [ 1,  6, 11],\n",
              "       [ 2,  7, 12],\n",
              "       [ 3,  8, 13],\n",
              "       [ 4,  9, 14]])"
            ]
          },
          "metadata": {},
          "execution_count": 66
        }
      ]
    },
    {
      "cell_type": "code",
      "source": [
        "# 計算內積\n",
        "arr = np.random.randn(6, 3)\n",
        "arr"
      ],
      "metadata": {
        "colab": {
          "base_uri": "https://localhost:8080/"
        },
        "id": "NTZOJnUFKa56",
        "outputId": "06446d63-ae15-4d03-f169-e8ecf43cd2da"
      },
      "execution_count": 67,
      "outputs": [
        {
          "output_type": "execute_result",
          "data": {
            "text/plain": [
              "array([[-1.98500066,  0.3378911 , -0.25096385],\n",
              "       [ 0.12544453,  0.50036039, -0.82368797],\n",
              "       [ 0.21192079,  1.62769846,  0.0262447 ],\n",
              "       [ 2.52778623,  0.15801244,  1.23229038],\n",
              "       [-0.8822878 ,  1.04969354, -0.87680984],\n",
              "       [ 1.44194054, -0.41962663, -0.61939602]])"
            ]
          },
          "metadata": {},
          "execution_count": 67
        }
      ]
    },
    {
      "cell_type": "code",
      "source": [
        "# 3*6 dot 6*3 -> 3*3\n",
        "np.dot(arr.T, arr)"
      ],
      "metadata": {
        "colab": {
          "base_uri": "https://localhost:8080/"
        },
        "id": "QMLy65TvKtXK",
        "outputId": "4e2259f6-98c7-4bf8-bfbd-8bbae3cac338"
      },
      "execution_count": 68,
      "outputs": [
        {
          "output_type": "execute_result",
          "data": {
            "text/plain": [
              "array([[13.24820189, -1.39479024,  3.39583109],\n",
              "       [-1.39479024,  4.31684414, -0.91997017],\n",
              "       [ 3.39583109, -0.91997017,  3.41312   ]])"
            ]
          },
          "metadata": {},
          "execution_count": 68
        }
      ]
    },
    {
      "cell_type": "markdown",
      "source": [
        "若要對付更高維度的陣列，transpose 方法可以接受軸編號 tuple，以這個 tuple 來排列軸"
      ],
      "metadata": {
        "id": "v0bxNJ7zLANC"
      }
    },
    {
      "cell_type": "code",
      "source": [
        "arr = np.arange(16).reshape((2, 2, 4))\n",
        "arr"
      ],
      "metadata": {
        "colab": {
          "base_uri": "https://localhost:8080/"
        },
        "id": "oCXKxGyJKweY",
        "outputId": "d6c82928-857f-422c-b547-411d827f8ca3"
      },
      "execution_count": 69,
      "outputs": [
        {
          "output_type": "execute_result",
          "data": {
            "text/plain": [
              "array([[[ 0,  1,  2,  3],\n",
              "        [ 4,  5,  6,  7]],\n",
              "\n",
              "       [[ 8,  9, 10, 11],\n",
              "        [12, 13, 14, 15]]])"
            ]
          },
          "metadata": {},
          "execution_count": 69
        }
      ]
    },
    {
      "cell_type": "code",
      "source": [
        "arr.transpose((1, 0, 2))"
      ],
      "metadata": {
        "colab": {
          "base_uri": "https://localhost:8080/"
        },
        "id": "PXT80BNFLRFX",
        "outputId": "7d73bc91-0f11-4b1e-a4aa-7c395c110c4d"
      },
      "execution_count": 70,
      "outputs": [
        {
          "output_type": "execute_result",
          "data": {
            "text/plain": [
              "array([[[ 0,  1,  2,  3],\n",
              "        [ 8,  9, 10, 11]],\n",
              "\n",
              "       [[ 4,  5,  6,  7],\n",
              "        [12, 13, 14, 15]]])"
            ]
          },
          "metadata": {},
          "execution_count": 70
        }
      ]
    },
    {
      "cell_type": "markdown",
      "source": [
        "在上述的例子中軸的次序變成第二軸優先，然後第一軸次之，最次才是第三軸"
      ],
      "metadata": {
        "id": "lINHCs_wMmJi"
      }
    },
    {
      "cell_type": "markdown",
      "source": [
        "## **4.2 全域函示：快速元素級別陣列函示**\n",
        "全域函示是一種對 ndarray 裡的資料執行元素級別運算的涵式，也稱 *ufunc*"
      ],
      "metadata": {
        "id": "zAAKKpErMxcx"
      }
    },
    {
      "cell_type": "code",
      "source": [
        "arr = np.arange(10)\n",
        "arr"
      ],
      "metadata": {
        "colab": {
          "base_uri": "https://localhost:8080/"
        },
        "id": "mnhTDTEXLc3X",
        "outputId": "4f129354-237b-4a17-d0a0-ba11cfcf3d99"
      },
      "execution_count": 71,
      "outputs": [
        {
          "output_type": "execute_result",
          "data": {
            "text/plain": [
              "array([0, 1, 2, 3, 4, 5, 6, 7, 8, 9])"
            ]
          },
          "metadata": {},
          "execution_count": 71
        }
      ]
    },
    {
      "cell_type": "code",
      "source": [
        "np.sqrt(arr)"
      ],
      "metadata": {
        "colab": {
          "base_uri": "https://localhost:8080/"
        },
        "id": "xeTKYvlKNpy3",
        "outputId": "37a4c614-5c46-4e1b-a55f-6cddd3f5c8b6"
      },
      "execution_count": 72,
      "outputs": [
        {
          "output_type": "execute_result",
          "data": {
            "text/plain": [
              "array([0.        , 1.        , 1.41421356, 1.73205081, 2.        ,\n",
              "       2.23606798, 2.44948974, 2.64575131, 2.82842712, 3.        ])"
            ]
          },
          "metadata": {},
          "execution_count": 72
        }
      ]
    },
    {
      "cell_type": "code",
      "source": [
        "np.exp(arr)"
      ],
      "metadata": {
        "colab": {
          "base_uri": "https://localhost:8080/"
        },
        "id": "F3w28twyNo90",
        "outputId": "fca9c8c9-9cea-4b45-b927-50a1829c37ea"
      },
      "execution_count": 73,
      "outputs": [
        {
          "output_type": "execute_result",
          "data": {
            "text/plain": [
              "array([1.00000000e+00, 2.71828183e+00, 7.38905610e+00, 2.00855369e+01,\n",
              "       5.45981500e+01, 1.48413159e+02, 4.03428793e+02, 1.09663316e+03,\n",
              "       2.98095799e+03, 8.10308393e+03])"
            ]
          },
          "metadata": {},
          "execution_count": 73
        }
      ]
    },
    {
      "cell_type": "markdown",
      "source": [
        "上述為一元 *ufun*；下列則為二元全域函式的例子"
      ],
      "metadata": {
        "id": "P776HyOTNz0f"
      }
    },
    {
      "cell_type": "code",
      "source": [
        "x = np.random.randn(8)\n",
        "y = np.random.randn(8)\n",
        "print(x)\n",
        "print(y)"
      ],
      "metadata": {
        "colab": {
          "base_uri": "https://localhost:8080/"
        },
        "id": "84wYdxSdNt53",
        "outputId": "13ba3f06-719c-4e9f-8e5d-fd3b6e944a4c"
      },
      "execution_count": 74,
      "outputs": [
        {
          "output_type": "stream",
          "name": "stdout",
          "text": [
            "[ 0.17213918 -0.08294056 -1.69874988  0.4485624   0.01265333  0.05844292\n",
            "  1.21342045  0.09304705]\n",
            "[-0.51788486  0.54324798 -0.42095718 -0.08554914  1.1859551  -0.44626722\n",
            "  0.46233021 -0.50758767]\n"
          ]
        }
      ]
    },
    {
      "cell_type": "code",
      "source": [
        "np.maximum(x, y)"
      ],
      "metadata": {
        "colab": {
          "base_uri": "https://localhost:8080/"
        },
        "id": "d0Pie5mjOPEM",
        "outputId": "e8156a64-d5c7-4e6d-8a0f-169913560ecd"
      },
      "execution_count": 75,
      "outputs": [
        {
          "output_type": "execute_result",
          "data": {
            "text/plain": [
              "array([ 0.17213918,  0.54324798, -0.42095718,  0.4485624 ,  1.1859551 ,\n",
              "        0.05844292,  1.21342045,  0.09304705])"
            ]
          },
          "metadata": {},
          "execution_count": 75
        }
      ]
    },
    {
      "cell_type": "markdown",
      "source": [
        "modf 為 python 內建 divmod 的向量版本"
      ],
      "metadata": {
        "id": "HyiZkcBdOszy"
      }
    },
    {
      "cell_type": "code",
      "source": [
        "arr = np.random.randn(7) * 5\n",
        "arr"
      ],
      "metadata": {
        "colab": {
          "base_uri": "https://localhost:8080/"
        },
        "id": "PNEUQpJNORlh",
        "outputId": "706e245c-b599-40a1-b915-3f5d2af7c3db"
      },
      "execution_count": 76,
      "outputs": [
        {
          "output_type": "execute_result",
          "data": {
            "text/plain": [
              "array([ 3.14686701,  3.51224282,  0.33693134, -0.10158987, -3.37379271,\n",
              "       12.1468547 , -4.4506608 ])"
            ]
          },
          "metadata": {},
          "execution_count": 76
        }
      ]
    },
    {
      "cell_type": "code",
      "source": [
        "remainder, whole_part = np.modf(arr)"
      ],
      "metadata": {
        "id": "So0kPv8kOmE_"
      },
      "execution_count": 77,
      "outputs": []
    },
    {
      "cell_type": "code",
      "source": [
        "remainder"
      ],
      "metadata": {
        "colab": {
          "base_uri": "https://localhost:8080/"
        },
        "id": "pzpqrf2UOpnx",
        "outputId": "028e7c68-23ee-4b2c-ac67-d6be804c3277"
      },
      "execution_count": 78,
      "outputs": [
        {
          "output_type": "execute_result",
          "data": {
            "text/plain": [
              "array([ 0.14686701,  0.51224282,  0.33693134, -0.10158987, -0.37379271,\n",
              "        0.1468547 , -0.4506608 ])"
            ]
          },
          "metadata": {},
          "execution_count": 78
        }
      ]
    },
    {
      "cell_type": "code",
      "source": [
        "whole_part"
      ],
      "metadata": {
        "colab": {
          "base_uri": "https://localhost:8080/"
        },
        "id": "kfl-du6kOqpe",
        "outputId": "df0ab5dc-3138-455d-bc4c-33d70ac71cd9"
      },
      "execution_count": 79,
      "outputs": [
        {
          "output_type": "execute_result",
          "data": {
            "text/plain": [
              "array([ 3.,  3.,  0., -0., -3., 12., -4.])"
            ]
          },
          "metadata": {},
          "execution_count": 79
        }
      ]
    },
    {
      "cell_type": "markdown",
      "source": [
        "## **4.3 用陣列寫陣列導向程式**"
      ],
      "metadata": {
        "id": "-mrIXT2HPRPk"
      }
    },
    {
      "cell_type": "code",
      "source": [
        "points = np.arange(-5, 5, 0.01) # 1000個等距點"
      ],
      "metadata": {
        "id": "HKBhK2ObOru5"
      },
      "execution_count": 80,
      "outputs": []
    },
    {
      "cell_type": "code",
      "source": [
        "# np.meshgrid 接受一維陣列參數並產生出兩個二維矩陣，\n",
        "# 這兩個二維矩陣能將原來兩個陣列中所有元素配對成一組組 (x, y)\n",
        "xs, ys = np.meshgrid(points, points)"
      ],
      "metadata": {
        "id": "3GIXPn0hQQLw"
      },
      "execution_count": 81,
      "outputs": []
    },
    {
      "cell_type": "code",
      "source": [
        "xs"
      ],
      "metadata": {
        "colab": {
          "base_uri": "https://localhost:8080/"
        },
        "id": "heD0R-WdQnw2",
        "outputId": "3de2f1d1-47c2-4ece-c555-e596cf3b2cab"
      },
      "execution_count": 82,
      "outputs": [
        {
          "output_type": "execute_result",
          "data": {
            "text/plain": [
              "array([[-5.  , -4.99, -4.98, ...,  4.97,  4.98,  4.99],\n",
              "       [-5.  , -4.99, -4.98, ...,  4.97,  4.98,  4.99],\n",
              "       [-5.  , -4.99, -4.98, ...,  4.97,  4.98,  4.99],\n",
              "       ...,\n",
              "       [-5.  , -4.99, -4.98, ...,  4.97,  4.98,  4.99],\n",
              "       [-5.  , -4.99, -4.98, ...,  4.97,  4.98,  4.99],\n",
              "       [-5.  , -4.99, -4.98, ...,  4.97,  4.98,  4.99]])"
            ]
          },
          "metadata": {},
          "execution_count": 82
        }
      ]
    },
    {
      "cell_type": "code",
      "source": [
        "ys"
      ],
      "metadata": {
        "colab": {
          "base_uri": "https://localhost:8080/"
        },
        "id": "t5YPCPoIQocW",
        "outputId": "f7a935ab-d1ed-48f7-e0dc-39a50ad5e7c7"
      },
      "execution_count": 83,
      "outputs": [
        {
          "output_type": "execute_result",
          "data": {
            "text/plain": [
              "array([[-5.  , -5.  , -5.  , ..., -5.  , -5.  , -5.  ],\n",
              "       [-4.99, -4.99, -4.99, ..., -4.99, -4.99, -4.99],\n",
              "       [-4.98, -4.98, -4.98, ..., -4.98, -4.98, -4.98],\n",
              "       ...,\n",
              "       [ 4.97,  4.97,  4.97, ...,  4.97,  4.97,  4.97],\n",
              "       [ 4.98,  4.98,  4.98, ...,  4.98,  4.98,  4.98],\n",
              "       [ 4.99,  4.99,  4.99, ...,  4.99,  4.99,  4.99]])"
            ]
          },
          "metadata": {},
          "execution_count": 83
        }
      ]
    },
    {
      "cell_type": "code",
      "source": [
        "z = np.sqrt(xs ** 2 + ys ** 2)\n",
        "z"
      ],
      "metadata": {
        "colab": {
          "base_uri": "https://localhost:8080/"
        },
        "id": "WPTBoLtFQpof",
        "outputId": "987d3262-8320-4acd-ef8b-41c6063c5a06"
      },
      "execution_count": 84,
      "outputs": [
        {
          "output_type": "execute_result",
          "data": {
            "text/plain": [
              "array([[7.07106781, 7.06400028, 7.05693985, ..., 7.04988652, 7.05693985,\n",
              "        7.06400028],\n",
              "       [7.06400028, 7.05692568, 7.04985815, ..., 7.04279774, 7.04985815,\n",
              "        7.05692568],\n",
              "       [7.05693985, 7.04985815, 7.04278354, ..., 7.03571603, 7.04278354,\n",
              "        7.04985815],\n",
              "       ...,\n",
              "       [7.04988652, 7.04279774, 7.03571603, ..., 7.0286414 , 7.03571603,\n",
              "        7.04279774],\n",
              "       [7.05693985, 7.04985815, 7.04278354, ..., 7.03571603, 7.04278354,\n",
              "        7.04985815],\n",
              "       [7.06400028, 7.05692568, 7.04985815, ..., 7.04279774, 7.04985815,\n",
              "        7.05692568]])"
            ]
          },
          "metadata": {},
          "execution_count": 84
        }
      ]
    },
    {
      "cell_type": "code",
      "source": [
        "import matplotlib.pyplot as plt\n",
        "plt.title(\"Image plot of $\\sqrt{x^2 + y^2}$ for a grid of values\")\n",
        "plt.imshow(z, cmap = plt.cm.gray); plt.colorbar()"
      ],
      "metadata": {
        "colab": {
          "base_uri": "https://localhost:8080/",
          "height": 480
        },
        "id": "xO17sxJ3RUOP",
        "outputId": "6d092290-12cd-4a2a-c1db-313e2377acf7"
      },
      "execution_count": 85,
      "outputs": [
        {
          "output_type": "execute_result",
          "data": {
            "text/plain": [
              "<matplotlib.colorbar.Colorbar at 0x7f5f502334c0>"
            ]
          },
          "metadata": {},
          "execution_count": 85
        },
        {
          "output_type": "display_data",
          "data": {
            "text/plain": [
              "<Figure size 640x480 with 2 Axes>"
            ],
            "image/png": "[encoded data removed]"
          },
          "metadata": {}
        }
      ]
    },
    {
      "cell_type": "markdown",
      "source": [
        "### **用陣列運算表達條件邏輯**\n",
        "numpy.where 函式是 x if condition else y 這個三元表達式的向量版本"
      ],
      "metadata": {
        "id": "MRgaPbQCSRgd"
      }
    },
    {
      "cell_type": "code",
      "source": [
        "x_arr = np.array([1.1, 1.2, 1.3, 1.4, 1.5])\n",
        "y_arr = np.array([2.1, 2.2, 2.3, 2.4, 2.5])\n",
        "cond= np.array([True, False, True, True, False])"
      ],
      "metadata": {
        "id": "3GEl0YCNR4Pv"
      },
      "execution_count": 86,
      "outputs": []
    },
    {
      "cell_type": "code",
      "source": [
        "result = [(x if c else y) for x, y, c in zip(x_arr, y_arr, cond)]\n",
        "result = np.array(result)\n",
        "result"
      ],
      "metadata": {
        "colab": {
          "base_uri": "https://localhost:8080/"
        },
        "id": "0eYz8SmASyDD",
        "outputId": "65a2c338-0100-4163-859a-40cbad76529c"
      },
      "execution_count": 87,
      "outputs": [
        {
          "output_type": "execute_result",
          "data": {
            "text/plain": [
              "array([1.1, 2.2, 1.3, 1.4, 2.5])"
            ]
          },
          "metadata": {},
          "execution_count": 87
        }
      ]
    },
    {
      "cell_type": "code",
      "source": [
        "result = np.where(cond, x_arr, y_arr)\n",
        "result"
      ],
      "metadata": {
        "colab": {
          "base_uri": "https://localhost:8080/"
        },
        "id": "UjQJLNSXTOGQ",
        "outputId": "76e975e5-4155-42ac-f08c-584e4be6be03"
      },
      "execution_count": 88,
      "outputs": [
        {
          "output_type": "execute_result",
          "data": {
            "text/plain": [
              "array([1.1, 2.2, 1.3, 1.4, 2.5])"
            ]
          },
          "metadata": {},
          "execution_count": 88
        }
      ]
    },
    {
      "cell_type": "markdown",
      "source": [
        "假設資料處理有一筆隨機資料，我們想要將其正值改為 2，其負值改為 -2"
      ],
      "metadata": {
        "id": "TQ25Jt7WTj1Y"
      }
    },
    {
      "cell_type": "code",
      "source": [
        "arr = np.random.randn(4, 4)\n",
        "arr"
      ],
      "metadata": {
        "colab": {
          "base_uri": "https://localhost:8080/"
        },
        "id": "Nir8ELl5TYSA",
        "outputId": "1c4ed1f3-8e49-4509-a508-08e0068d7457"
      },
      "execution_count": 89,
      "outputs": [
        {
          "output_type": "execute_result",
          "data": {
            "text/plain": [
              "array([[ 2.12546928, -0.23661009,  1.54858314,  0.77565445],\n",
              "       [-0.78290122, -0.31128321,  0.21290249, -1.48438525],\n",
              "       [-0.21060062, -0.03314469, -0.42339897,  0.12563072],\n",
              "       [ 0.26937464, -0.02252154,  0.76299951, -0.13281606]])"
            ]
          },
          "metadata": {},
          "execution_count": 89
        }
      ]
    },
    {
      "cell_type": "code",
      "source": [
        "np.where(arr > 0, 2, -2)"
      ],
      "metadata": {
        "colab": {
          "base_uri": "https://localhost:8080/"
        },
        "id": "C-wykrNeT0iI",
        "outputId": "48999f9e-d87d-4b49-e8c2-0d383b0e1fa1"
      },
      "execution_count": 90,
      "outputs": [
        {
          "output_type": "execute_result",
          "data": {
            "text/plain": [
              "array([[ 2, -2,  2,  2],\n",
              "       [-2, -2,  2, -2],\n",
              "       [-2, -2, -2,  2],\n",
              "       [ 2, -2,  2, -2]])"
            ]
          },
          "metadata": {},
          "execution_count": 90
        }
      ]
    },
    {
      "cell_type": "code",
      "source": [
        "# 也可以讓負值維持原值\n",
        "np.where(arr > 0, 2, arr)"
      ],
      "metadata": {
        "colab": {
          "base_uri": "https://localhost:8080/"
        },
        "id": "B0byj_wzT4kL",
        "outputId": "3b70cf85-0c6e-4f05-965b-50b1531b772e"
      },
      "execution_count": 91,
      "outputs": [
        {
          "output_type": "execute_result",
          "data": {
            "text/plain": [
              "array([[ 2.        , -0.23661009,  2.        ,  2.        ],\n",
              "       [-0.78290122, -0.31128321,  2.        , -1.48438525],\n",
              "       [-0.21060062, -0.03314469, -0.42339897,  2.        ],\n",
              "       [ 2.        , -0.02252154,  2.        , -0.13281606]])"
            ]
          },
          "metadata": {},
          "execution_count": 91
        }
      ]
    },
    {
      "cell_type": "markdown",
      "source": [
        "### **數學和統計方法**"
      ],
      "metadata": {
        "id": "i7Y1ATKMZ98z"
      }
    },
    {
      "cell_type": "code",
      "source": [
        "arr = np.random.randn(5, 4)\n",
        "arr"
      ],
      "metadata": {
        "colab": {
          "base_uri": "https://localhost:8080/"
        },
        "id": "V3wln3w0ULg2",
        "outputId": "54ff6f89-af07-4f12-a490-a2bff658898c"
      },
      "execution_count": 92,
      "outputs": [
        {
          "output_type": "execute_result",
          "data": {
            "text/plain": [
              "array([[-0.83849443, -1.52633301, -0.13786124, -1.32415332],\n",
              "       [-0.85643972,  0.90262374,  0.11406012, -0.72329755],\n",
              "       [-0.25535335, -0.48807108,  1.0369521 , -1.51091831],\n",
              "       [-0.37174561,  0.14754367,  0.37905145,  1.41831576],\n",
              "       [-0.08504337, -0.1292256 ,  1.38024606,  0.0846302 ]])"
            ]
          },
          "metadata": {},
          "execution_count": 92
        }
      ]
    },
    {
      "cell_type": "code",
      "source": [
        "arr.mean()"
      ],
      "metadata": {
        "colab": {
          "base_uri": "https://localhost:8080/"
        },
        "id": "5TxDP9pVaNWb",
        "outputId": "2d990378-f891-46e5-c397-33e9832b4f2b"
      },
      "execution_count": 93,
      "outputs": [
        {
          "output_type": "execute_result",
          "data": {
            "text/plain": [
              "-0.13917567476932374"
            ]
          },
          "metadata": {},
          "execution_count": 93
        }
      ]
    },
    {
      "cell_type": "code",
      "source": [
        "np.mean(arr)"
      ],
      "metadata": {
        "colab": {
          "base_uri": "https://localhost:8080/"
        },
        "id": "5QW3L4ySaOgr",
        "outputId": "82248cb4-7ee2-4b78-9909-99c208add0ff"
      },
      "execution_count": 94,
      "outputs": [
        {
          "output_type": "execute_result",
          "data": {
            "text/plain": [
              "-0.13917567476932374"
            ]
          },
          "metadata": {},
          "execution_count": 94
        }
      ]
    },
    {
      "cell_type": "code",
      "source": [
        "arr.sum()"
      ],
      "metadata": {
        "colab": {
          "base_uri": "https://localhost:8080/"
        },
        "id": "-Vh_SoIMaQM0",
        "outputId": "35611c8b-7567-4f48-d1cb-f16909455476"
      },
      "execution_count": 95,
      "outputs": [
        {
          "output_type": "execute_result",
          "data": {
            "text/plain": [
              "-2.783513495386475"
            ]
          },
          "metadata": {},
          "execution_count": 95
        }
      ]
    },
    {
      "cell_type": "code",
      "source": [
        "np.sum(arr)"
      ],
      "metadata": {
        "colab": {
          "base_uri": "https://localhost:8080/"
        },
        "id": "VxfksN3JaSH8",
        "outputId": "1660361d-c5c8-43ed-afc8-7abb950bc563"
      },
      "execution_count": 96,
      "outputs": [
        {
          "output_type": "execute_result",
          "data": {
            "text/plain": [
              "-2.783513495386475"
            ]
          },
          "metadata": {},
          "execution_count": 96
        }
      ]
    },
    {
      "cell_type": "markdown",
      "source": [
        "像是 sum() mean() 這種函式可以接受 axis 指定軸方向計算統計資料"
      ],
      "metadata": {
        "id": "-jliXlHpaXHq"
      }
    },
    {
      "cell_type": "code",
      "source": [
        "arr = np.arange(10).reshape((5, 2))\n",
        "arr"
      ],
      "metadata": {
        "colab": {
          "base_uri": "https://localhost:8080/"
        },
        "id": "ewh-FJ9yaWrg",
        "outputId": "46258e81-136a-42c7-f995-6e984cf2b8df"
      },
      "execution_count": 97,
      "outputs": [
        {
          "output_type": "execute_result",
          "data": {
            "text/plain": [
              "array([[0, 1],\n",
              "       [2, 3],\n",
              "       [4, 5],\n",
              "       [6, 7],\n",
              "       [8, 9]])"
            ]
          },
          "metadata": {},
          "execution_count": 97
        }
      ]
    },
    {
      "cell_type": "code",
      "source": [
        "arr.mean(axis = 1)"
      ],
      "metadata": {
        "colab": {
          "base_uri": "https://localhost:8080/"
        },
        "id": "pmzpI1gNaTI3",
        "outputId": "81e1614c-a08c-475e-ead9-f531066fb744"
      },
      "execution_count": 98,
      "outputs": [
        {
          "output_type": "execute_result",
          "data": {
            "text/plain": [
              "array([0.5, 2.5, 4.5, 6.5, 8.5])"
            ]
          },
          "metadata": {},
          "execution_count": 98
        }
      ]
    },
    {
      "cell_type": "code",
      "source": [
        "arr.sum(axis = 0)"
      ],
      "metadata": {
        "colab": {
          "base_uri": "https://localhost:8080/"
        },
        "id": "RMZbqbBDbWJf",
        "outputId": "f65d84c5-ae6a-4b3e-d01f-869018b58d75"
      },
      "execution_count": 99,
      "outputs": [
        {
          "output_type": "execute_result",
          "data": {
            "text/plain": [
              "array([20, 25])"
            ]
          },
          "metadata": {},
          "execution_count": 99
        }
      ]
    },
    {
      "cell_type": "markdown",
      "source": [
        "cumsum 和 cumprod 不會做聚合，會回傳結果陣列"
      ],
      "metadata": {
        "id": "-oqIcQ_rbjF0"
      }
    },
    {
      "cell_type": "code",
      "source": [
        "arr = np.arange(9).reshape(3, 3)\n",
        "arr"
      ],
      "metadata": {
        "colab": {
          "base_uri": "https://localhost:8080/"
        },
        "id": "Nd3-gBvhbY4g",
        "outputId": "7da3337c-1bf2-4197-b6c5-0e86cb841bc3"
      },
      "execution_count": 100,
      "outputs": [
        {
          "output_type": "execute_result",
          "data": {
            "text/plain": [
              "array([[0, 1, 2],\n",
              "       [3, 4, 5],\n",
              "       [6, 7, 8]])"
            ]
          },
          "metadata": {},
          "execution_count": 100
        }
      ]
    },
    {
      "cell_type": "code",
      "source": [
        "arr.cumsum(axis = 0)"
      ],
      "metadata": {
        "colab": {
          "base_uri": "https://localhost:8080/"
        },
        "id": "gKd0nE2Ab4fb",
        "outputId": "0c0f139d-e2f9-4bea-cecd-ea5687b22ce0"
      },
      "execution_count": 101,
      "outputs": [
        {
          "output_type": "execute_result",
          "data": {
            "text/plain": [
              "array([[ 0,  1,  2],\n",
              "       [ 3,  5,  7],\n",
              "       [ 9, 12, 15]])"
            ]
          },
          "metadata": {},
          "execution_count": 101
        }
      ]
    },
    {
      "cell_type": "code",
      "source": [
        "arr.cumprod(axis = 1)"
      ],
      "metadata": {
        "colab": {
          "base_uri": "https://localhost:8080/"
        },
        "id": "7yWLm7beb-AU",
        "outputId": "1802ec6c-181d-4e26-e019-febd2a067d1a"
      },
      "execution_count": 102,
      "outputs": [
        {
          "output_type": "execute_result",
          "data": {
            "text/plain": [
              "array([[  0,   0,   0],\n",
              "       [  3,  12,  60],\n",
              "       [  6,  42, 336]])"
            ]
          },
          "metadata": {},
          "execution_count": 102
        }
      ]
    },
    {
      "cell_type": "markdown",
      "source": [
        "### **其他方法**"
      ],
      "metadata": {
        "id": "X9Z5t_yIckof"
      }
    },
    {
      "cell_type": "code",
      "source": [
        "# 排序\n",
        "arr = np.random.randn(6)\n",
        "arr"
      ],
      "metadata": {
        "colab": {
          "base_uri": "https://localhost:8080/"
        },
        "id": "3WpsnEEjcBTn",
        "outputId": "a2d45750-1f37-4823-a386-482992bbd01d"
      },
      "execution_count": 103,
      "outputs": [
        {
          "output_type": "execute_result",
          "data": {
            "text/plain": [
              "array([-0.79053555, -0.79227554,  1.24923066,  0.01693268, -0.38684048,\n",
              "        0.00902032])"
            ]
          },
          "metadata": {},
          "execution_count": 103
        }
      ]
    },
    {
      "cell_type": "code",
      "source": [
        "arr.sort()\n",
        "arr"
      ],
      "metadata": {
        "colab": {
          "base_uri": "https://localhost:8080/"
        },
        "id": "sJUzT0qncuaT",
        "outputId": "a8739ac6-98dc-40ef-c9df-f632698aa044"
      },
      "execution_count": 104,
      "outputs": [
        {
          "output_type": "execute_result",
          "data": {
            "text/plain": [
              "array([-0.79227554, -0.79053555, -0.38684048,  0.00902032,  0.01693268,\n",
              "        1.24923066])"
            ]
          },
          "metadata": {},
          "execution_count": 104
        }
      ]
    },
    {
      "cell_type": "code",
      "source": [
        "# unique (distinct)\n",
        "names = np.array(['Bob', 'Joe', 'Will', 'Bob'])\n",
        "names"
      ],
      "metadata": {
        "colab": {
          "base_uri": "https://localhost:8080/"
        },
        "id": "isfYOifpc1LG",
        "outputId": "cd28befd-3f66-4970-b6c1-9e81dffb3d41"
      },
      "execution_count": 105,
      "outputs": [
        {
          "output_type": "execute_result",
          "data": {
            "text/plain": [
              "array(['Bob', 'Joe', 'Will', 'Bob'], dtype='<U4')"
            ]
          },
          "metadata": {},
          "execution_count": 105
        }
      ]
    },
    {
      "cell_type": "code",
      "source": [
        "np.unique(names)"
      ],
      "metadata": {
        "colab": {
          "base_uri": "https://localhost:8080/"
        },
        "id": "a9a6DkUAdG45",
        "outputId": "9de47c98-aaf6-46ec-ee4a-e81deab54347"
      },
      "execution_count": 106,
      "outputs": [
        {
          "output_type": "execute_result",
          "data": {
            "text/plain": [
              "array(['Bob', 'Joe', 'Will'], dtype='<U4')"
            ]
          },
          "metadata": {},
          "execution_count": 106
        }
      ]
    },
    {
      "cell_type": "markdown",
      "source": [
        "## **4.4 從檔案輸入或輸出值到陣列**"
      ],
      "metadata": {
        "id": "pMSrsv9rdO_w"
      }
    },
    {
      "cell_type": "code",
      "source": [
        "arr = np.arange(10)\n",
        "np.save('some_array', arr)"
      ],
      "metadata": {
        "id": "4q2MlRS4dJZu"
      },
      "execution_count": 107,
      "outputs": []
    },
    {
      "cell_type": "code",
      "source": [
        "np.load('some_array.npy')"
      ],
      "metadata": {
        "colab": {
          "base_uri": "https://localhost:8080/"
        },
        "id": "R-ItEtlgeAZ6",
        "outputId": "f923e19d-6072-4cb8-d97e-766789ef7394"
      },
      "execution_count": 108,
      "outputs": [
        {
          "output_type": "execute_result",
          "data": {
            "text/plain": [
              "array([0, 1, 2, 3, 4, 5, 6, 7, 8, 9])"
            ]
          },
          "metadata": {},
          "execution_count": 108
        }
      ]
    },
    {
      "cell_type": "code",
      "source": [
        "# 儲存多個陣列，可以得到一個 dict-like object\n",
        "np.savez('array_archive', a=arr, b=arr)"
      ],
      "metadata": {
        "id": "5jDoXkxheHGj"
      },
      "execution_count": 109,
      "outputs": []
    },
    {
      "cell_type": "code",
      "source": [
        "arch = np.load('array_archive.npz')\n",
        "arch['b']"
      ],
      "metadata": {
        "colab": {
          "base_uri": "https://localhost:8080/"
        },
        "id": "W7noy-dfeZsq",
        "outputId": "cbcbd327-3a1d-4077-d90c-4640a294e255"
      },
      "execution_count": 110,
      "outputs": [
        {
          "output_type": "execute_result",
          "data": {
            "text/plain": [
              "array([0, 1, 2, 3, 4, 5, 6, 7, 8, 9])"
            ]
          },
          "metadata": {},
          "execution_count": 110
        }
      ]
    },
    {
      "cell_type": "markdown",
      "source": [
        "## **4.5 線性代數**"
      ],
      "metadata": {
        "id": "vl9atLyue00T"
      }
    },
    {
      "cell_type": "code",
      "source": [
        "x = np.arange(6).reshape(2, 3) + 1\n",
        "x"
      ],
      "metadata": {
        "colab": {
          "base_uri": "https://localhost:8080/"
        },
        "id": "YPahZtSfeko_",
        "outputId": "15f68949-0d0e-44f8-d1d1-3dbee5c85d56"
      },
      "execution_count": 111,
      "outputs": [
        {
          "output_type": "execute_result",
          "data": {
            "text/plain": [
              "array([[1, 2, 3],\n",
              "       [4, 5, 6]])"
            ]
          },
          "metadata": {},
          "execution_count": 111
        }
      ]
    },
    {
      "cell_type": "code",
      "source": [
        "y = np.array([[6, 23], [-1, 7], [8, 9]], dtype=np.float64)\n",
        "y"
      ],
      "metadata": {
        "colab": {
          "base_uri": "https://localhost:8080/"
        },
        "id": "qhPRxZybfPR8",
        "outputId": "2e645f50-97ed-4750-cbed-5f55684f5baa"
      },
      "execution_count": 112,
      "outputs": [
        {
          "output_type": "execute_result",
          "data": {
            "text/plain": [
              "array([[ 6., 23.],\n",
              "       [-1.,  7.],\n",
              "       [ 8.,  9.]])"
            ]
          },
          "metadata": {},
          "execution_count": 112
        }
      ]
    },
    {
      "cell_type": "code",
      "source": [
        "x.dot(y)"
      ],
      "metadata": {
        "colab": {
          "base_uri": "https://localhost:8080/"
        },
        "id": "YvUbqfjXfYR5",
        "outputId": "1d098fc0-e2ce-4597-b473-3afb62856cb9"
      },
      "execution_count": 113,
      "outputs": [
        {
          "output_type": "execute_result",
          "data": {
            "text/plain": [
              "array([[ 28.,  64.],\n",
              "       [ 67., 181.]])"
            ]
          },
          "metadata": {},
          "execution_count": 113
        }
      ]
    },
    {
      "cell_type": "code",
      "source": [
        "x @ y"
      ],
      "metadata": {
        "colab": {
          "base_uri": "https://localhost:8080/"
        },
        "id": "0nxvyEw7fhZa",
        "outputId": "90578e9b-7964-449f-9ca9-6a43103fb71f"
      },
      "execution_count": 114,
      "outputs": [
        {
          "output_type": "execute_result",
          "data": {
            "text/plain": [
              "array([[ 28.,  64.],\n",
              "       [ 67., 181.]])"
            ]
          },
          "metadata": {},
          "execution_count": 114
        }
      ]
    },
    {
      "cell_type": "markdown",
      "source": [
        "## **4.6 生成偽隨機數**"
      ],
      "metadata": {
        "id": "w9875Cnuf7Bx"
      }
    },
    {
      "cell_type": "code",
      "source": [
        "samples = np.random.normal(size = (4, 4))\n",
        "samples"
      ],
      "metadata": {
        "colab": {
          "base_uri": "https://localhost:8080/"
        },
        "id": "SifT_jhuftU8",
        "outputId": "136f3f3d-cf7a-49f6-a27e-ed0ab708d977"
      },
      "execution_count": 115,
      "outputs": [
        {
          "output_type": "execute_result",
          "data": {
            "text/plain": [
              "array([[ 0.49659479,  0.69878467,  1.46067169, -0.56039082],\n",
              "       [-1.09154906, -1.02462787,  0.99394227,  0.98098087],\n",
              "       [ 1.12397544,  0.04277027, -0.3271453 ,  2.13622339],\n",
              "       [ 0.64785222,  0.02508981, -1.3042009 ,  1.26197891]])"
            ]
          },
          "metadata": {},
          "execution_count": 115
        }
      ]
    },
    {
      "cell_type": "markdown",
      "source": [
        "|函式|描述|\n",
        "|:-|:-|\n",
        "|seed|設定涮物產生器種子|\n",
        "|permutation|回傳一個打亂過的序列，或是打亂過的陣列|\n",
        "|shuffle|以 in-place 的方式打亂一個序列|\n",
        "|rand|從均勻分布中抽取樣本|\n",
        "|randn|從標準常態分配中抽取樣本|\n",
        "|randint|指低到高區間並從中抽取整數樣本|\n",
        "|binomial|從二項分布中抽取樣本|\n",
        "|normal|從常態分布中抽取樣本|\n",
        "|beta|從 beta 中抽取樣本|\n",
        "|chisquare|同理|\n",
        "|gamma|同理|\n",
        "|uniform|從均勻分布 [0, 1) 中抽取樣本|\n"
      ],
      "metadata": {
        "id": "O2Dqg_xEgRAt"
      }
    },
    {
      "cell_type": "markdown",
      "source": [
        "## **4.7 模擬隨機漫步**"
      ],
      "metadata": {
        "id": "u-iLr4WthZRs"
      }
    },
    {
      "cell_type": "code",
      "source": [
        "# 以純 python 示範：\n",
        "import random\n",
        "\n",
        "position = 0\n",
        "walk = [position]\n",
        "\n",
        "steps = 1000\n",
        "for i in range(steps):\n",
        "    step = 1 if random.randint(0, 1) else -1\n",
        "    position += step\n",
        "    walk.append(position)\n",
        "\n",
        "plt.plot(walk[:100])"
      ],
      "metadata": {
        "colab": {
          "base_uri": "https://localhost:8080/",
          "height": 448
        },
        "id": "lO-hQGqqgGOp",
        "outputId": "4bb109e9-f6ad-407e-d6b1-d6ec7dd917bd"
      },
      "execution_count": 116,
      "outputs": [
        {
          "output_type": "execute_result",
          "data": {
            "text/plain": [
              "[<matplotlib.lines.Line2D at 0x7f5f2bfa2b00>]"
            ]
          },
          "metadata": {},
          "execution_count": 116
        },
        {
          "output_type": "display_data",
          "data": {
            "text/plain": [
              "<Figure size 640x480 with 1 Axes>"
            ],
            "image/png": "[encoded data removed]"
          },
          "metadata": {}
        }
      ]
    },
    {
      "cell_type": "markdown",
      "source": [
        "實際上 walk 其實就是把隨機的每一步加總，也可以被當作陣列來運算，就像我用 np.random 模組連續投擲硬幣 10000 次，正面為 1 反面為 -1，然後計算累加總數"
      ],
      "metadata": {
        "id": "YvqY3bmGifcx"
      }
    },
    {
      "cell_type": "code",
      "source": [
        "n_steps = 1000\n",
        "draws = np.random.randint(0, 2, size = n_steps)\n",
        "steps = np.where(draws > 0, 1, -1)\n",
        "walk = steps.cumsum()\n",
        "\n",
        "plt.plot(walk[:100])"
      ],
      "metadata": {
        "colab": {
          "base_uri": "https://localhost:8080/",
          "height": 448
        },
        "id": "PIX6d9D-iTem",
        "outputId": "225a73a7-82a3-4d2a-fda8-193b55c11962"
      },
      "execution_count": 117,
      "outputs": [
        {
          "output_type": "execute_result",
          "data": {
            "text/plain": [
              "[<matplotlib.lines.Line2D at 0x7f5f2be182e0>]"
            ]
          },
          "metadata": {},
          "execution_count": 117
        },
        {
          "output_type": "display_data",
          "data": {
            "text/plain": [
              "<Figure size 640x480 with 1 Axes>"
            ],
            "image/png": "[encoded data removed]"
          },
          "metadata": {}
        }
      ]
    },
    {
      "cell_type": "code",
      "source": [
        "# 尋找首次穿越時間：走多少部後可以達到我們想要的指定值\n",
        "(np.abs(walk) >= 10).argmax() # 尋找何時達到 10 或 -10 遠的地方\n",
        "# argmax() 回傳最大值所在位置（重複的話會回穿第一個出現的位置）"
      ],
      "metadata": {
        "colab": {
          "base_uri": "https://localhost:8080/"
        },
        "id": "o0MPRF9tjbcg",
        "outputId": "045504b4-c15e-46d8-c129-54e5a23e8593"
      },
      "execution_count": 118,
      "outputs": [
        {
          "output_type": "execute_result",
          "data": {
            "text/plain": [
              "227"
            ]
          },
          "metadata": {},
          "execution_count": 118
        }
      ]
    },
    {
      "cell_type": "code",
      "source": [
        "walk[20]"
      ],
      "metadata": {
        "colab": {
          "base_uri": "https://localhost:8080/"
        },
        "id": "vyU6eWjzkgbl",
        "outputId": "01ec54c6-69f6-450a-969e-a78d03701be6"
      },
      "execution_count": 119,
      "outputs": [
        {
          "output_type": "execute_result",
          "data": {
            "text/plain": [
              "-1"
            ]
          },
          "metadata": {},
          "execution_count": 119
        }
      ]
    },
    {
      "cell_type": "markdown",
      "source": [
        "### **一次模擬許多隨機漫步過程**"
      ],
      "metadata": {
        "id": "RhP0Cy38kmZh"
      }
    },
    {
      "cell_type": "code",
      "source": [
        "nwalks = 5000 # 模擬 5000 次隨機漫步\n",
        "nsteps = 1000 # 每個隨機漫步都走 1000 步\n",
        "draws = np.random.randint(0, 2, size = (nwalks, nsteps))\n",
        "steps = np.where(draws > 0, 1, -1)\n",
        "walks = steps.cumsum(axis = 1)\n",
        "walks"
      ],
      "metadata": {
        "colab": {
          "base_uri": "https://localhost:8080/"
        },
        "id": "PG4cyWXQkjtQ",
        "outputId": "7804301e-d09f-4e0d-d061-5b9f1a0676b4"
      },
      "execution_count": 120,
      "outputs": [
        {
          "output_type": "execute_result",
          "data": {
            "text/plain": [
              "array([[  1,   2,   3, ..., -18, -17, -16],\n",
              "       [  1,   0,  -1, ...,   6,   7,   8],\n",
              "       [ -1,  -2,  -1, ...,  44,  43,  42],\n",
              "       ...,\n",
              "       [  1,   2,   3, ...,  16,  15,  16],\n",
              "       [  1,   2,   3, ..., -48, -47, -46],\n",
              "       [  1,   0,  -1, ..., -46, -45, -44]])"
            ]
          },
          "metadata": {},
          "execution_count": 120
        }
      ]
    },
    {
      "cell_type": "code",
      "source": [
        "walks.shape"
      ],
      "metadata": {
        "colab": {
          "base_uri": "https://localhost:8080/"
        },
        "id": "OJd9xnqWlCGM",
        "outputId": "8f885d1c-d6bb-4c73-bee4-63ba29775db5"
      },
      "execution_count": 121,
      "outputs": [
        {
          "output_type": "execute_result",
          "data": {
            "text/plain": [
              "(5000, 1000)"
            ]
          },
          "metadata": {},
          "execution_count": 121
        }
      ]
    },
    {
      "cell_type": "code",
      "source": [
        "# 想知道 5000 次模擬裡面有多少次走到了 30 步\n",
        "hist30 = (np.abs(walks) >= 30).any(1) # 按照 1 軸檢查有無 True"
      ],
      "metadata": {
        "id": "LDowZogGltZz"
      },
      "execution_count": 122,
      "outputs": []
    },
    {
      "cell_type": "code",
      "source": [
        "hist30.sum()"
      ],
      "metadata": {
        "colab": {
          "base_uri": "https://localhost:8080/"
        },
        "id": "l30I64V4l-h1",
        "outputId": "1d892cf8-3363-4372-d2bf-6858dd70ee47"
      },
      "execution_count": 123,
      "outputs": [
        {
          "output_type": "execute_result",
          "data": {
            "text/plain": [
              "3406"
            ]
          },
          "metadata": {},
          "execution_count": 123
        }
      ]
    },
    {
      "cell_type": "code",
      "source": [
        "# 計算平均穿越時間\n",
        "crossing_times = (np.abs(walks[hist30]) >= 30).argmax(axis = 1)\n",
        "crossing_times.shape"
      ],
      "metadata": {
        "colab": {
          "base_uri": "https://localhost:8080/"
        },
        "id": "jQscvrIzmbpI",
        "outputId": "a0d590f4-dc9c-4978-b8b9-66a201ae02e0"
      },
      "execution_count": 124,
      "outputs": [
        {
          "output_type": "execute_result",
          "data": {
            "text/plain": [
              "(3406,)"
            ]
          },
          "metadata": {},
          "execution_count": 124
        }
      ]
    }
  ]
}
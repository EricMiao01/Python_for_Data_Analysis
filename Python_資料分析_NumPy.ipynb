{
  "nbformat": 4,
  "nbformat_minor": 0,
  "metadata": {
    "colab": {
      "provenance": [],
      "authorship_tag": "ABX9TyN2YCgu77n/yOyDQ72WwqDn",
      "include_colab_link": true
    },
    "kernelspec": {
      "name": "python3",
      "display_name": "Python 3"
    },
    "language_info": {
      "name": "python"
    }
  },
  "cells": [
    {
      "cell_type": "markdown",
      "metadata": {
        "id": "view-in-github",
        "colab_type": "text"
      },
      "source": [
        "<a href=\"https://colab.research.google.com/github/EricMiao01/Python_for_Data_Analysis/blob/main/Python_%E8%B3%87%E6%96%99%E5%88%86%E6%9E%90_NumPy.ipynb\" target=\"_parent\"><img src=\"https://colab.research.google.com/assets/colab-badge.svg\" alt=\"Open In Colab\"/></a>"
      ]
    },
    {
      "cell_type": "markdown",
      "source": [
        "# **NumPy**\n",
        "* data munging, cleaning, subsetting, filtering, transformation\n",
        "* 一般陣列演算法，例如排序、唯一化以及集合運算\n",
        "* 資料對其和關聯資料處理。\n",
        "* 用矩陣表達式取代 if-elif-else\n",
        "* 操作群組資料"
      ],
      "metadata": {
        "id": "d7AYty2_eUvk"
      }
    },
    {
      "cell_type": "code",
      "source": [
        "import numpy as np"
      ],
      "metadata": {
        "id": "VUspAVzAhSOD"
      },
      "execution_count": 195,
      "outputs": []
    },
    {
      "cell_type": "markdown",
      "source": [
        "---"
      ],
      "metadata": {
        "id": "85gyJmPTk77K"
      }
    },
    {
      "cell_type": "markdown",
      "source": [
        "## **4.1 NumPy ndarray：多維陣列物件**\n",
        "ndarray 是一種通用的同質資料的多維容器，意及所有的勻速型態一定要是一樣的，每個陣列都有一個 shape 以及 dtype 屬性，用來標明維度以及其元素的資料型態。"
      ],
      "metadata": {
        "id": "VuDLhcE9fmCw"
      }
    },
    {
      "cell_type": "code",
      "execution_count": 196,
      "metadata": {
        "colab": {
          "base_uri": "https://localhost:8080/"
        },
        "id": "o0LsxNaOeJoA",
        "outputId": "e756beba-a816-4bb2-a48f-8101d38bf6b8"
      },
      "outputs": [
        {
          "output_type": "execute_result",
          "data": {
            "text/plain": [
              "array([[-0.85883349, -1.78929936,  1.06017619],\n",
              "       [ 1.13372686, -0.45265522, -0.48330921]])"
            ]
          },
          "metadata": {},
          "execution_count": 196
        }
      ],
      "source": [
        "# 產生隨機資料\n",
        "data = np.random.randn(2, 3)\n",
        "data"
      ]
    },
    {
      "cell_type": "code",
      "source": [
        "data.shape"
      ],
      "metadata": {
        "colab": {
          "base_uri": "https://localhost:8080/"
        },
        "id": "OdHHtiyUheqS",
        "outputId": "341351fb-c25b-4c35-f310-c69da750b5c2"
      },
      "execution_count": 197,
      "outputs": [
        {
          "output_type": "execute_result",
          "data": {
            "text/plain": [
              "(2, 3)"
            ]
          },
          "metadata": {},
          "execution_count": 197
        }
      ]
    },
    {
      "cell_type": "code",
      "source": [
        "data.dtype"
      ],
      "metadata": {
        "colab": {
          "base_uri": "https://localhost:8080/"
        },
        "id": "XypoWEKoipjs",
        "outputId": "f2f809b7-6e56-41d5-ce11-a283a6aa8864"
      },
      "execution_count": 198,
      "outputs": [
        {
          "output_type": "execute_result",
          "data": {
            "text/plain": [
              "dtype('float64')"
            ]
          },
          "metadata": {},
          "execution_count": 198
        }
      ]
    },
    {
      "cell_type": "markdown",
      "source": [
        "---"
      ],
      "metadata": {
        "id": "jh2c2P2Mk6LG"
      }
    },
    {
      "cell_type": "markdown",
      "source": [
        "### **建立 ndarray**\n",
        "建立陣列最簡單的方法就是使用 array 函式，它可以接受任何序列物件作為參數（包含另一個陣列），並產生新的 NumPy 陣列。"
      ],
      "metadata": {
        "id": "CH90qkEpisrK"
      }
    },
    {
      "cell_type": "code",
      "source": [
        "data1 = [6, 7.5, 8, 9, 10]\n",
        "arr1 = np.array(data1)\n",
        "arr1"
      ],
      "metadata": {
        "colab": {
          "base_uri": "https://localhost:8080/"
        },
        "id": "vsUtceA4iqg0",
        "outputId": "312a0216-682c-4712-bdf8-14a9c01cbedb"
      },
      "execution_count": 199,
      "outputs": [
        {
          "output_type": "execute_result",
          "data": {
            "text/plain": [
              "array([ 6. ,  7.5,  8. ,  9. , 10. ])"
            ]
          },
          "metadata": {},
          "execution_count": 199
        }
      ]
    },
    {
      "cell_type": "code",
      "source": [
        "data2 = [[1, 2, 3, 4], [5, 6, 7, 8]]\n",
        "arr2 = np.array(data2)\n",
        "arr2"
      ],
      "metadata": {
        "colab": {
          "base_uri": "https://localhost:8080/"
        },
        "id": "HH1koTw8jQJD",
        "outputId": "ad60e165-4fd6-49a9-f15f-3a82ef3e977c"
      },
      "execution_count": 200,
      "outputs": [
        {
          "output_type": "execute_result",
          "data": {
            "text/plain": [
              "array([[1, 2, 3, 4],\n",
              "       [5, 6, 7, 8]])"
            ]
          },
          "metadata": {},
          "execution_count": 200
        }
      ]
    },
    {
      "cell_type": "markdown",
      "source": [
        "---"
      ],
      "metadata": {
        "id": "1LLp10Ovku4D"
      }
    },
    {
      "cell_type": "markdown",
      "source": [
        "我們可以使用 ndim 或 shape 屬性來檢查陣列"
      ],
      "metadata": {
        "id": "y0lfsyFQjuq5"
      }
    },
    {
      "cell_type": "code",
      "source": [
        "arr2.ndim"
      ],
      "metadata": {
        "colab": {
          "base_uri": "https://localhost:8080/"
        },
        "id": "6L_3V5qYjc8S",
        "outputId": "8747f51b-a4b0-4d3f-f0ef-d3989f820f7e"
      },
      "execution_count": 201,
      "outputs": [
        {
          "output_type": "execute_result",
          "data": {
            "text/plain": [
              "2"
            ]
          },
          "metadata": {},
          "execution_count": 201
        }
      ]
    },
    {
      "cell_type": "code",
      "source": [
        "arr2.shape"
      ],
      "metadata": {
        "colab": {
          "base_uri": "https://localhost:8080/"
        },
        "id": "awMN2gC7j9ku",
        "outputId": "113f5c16-5750-4684-b2a6-0e4e7bafff48"
      },
      "execution_count": 202,
      "outputs": [
        {
          "output_type": "execute_result",
          "data": {
            "text/plain": [
              "(2, 4)"
            ]
          },
          "metadata": {},
          "execution_count": 202
        }
      ]
    },
    {
      "cell_type": "markdown",
      "source": [
        "---\n"
      ],
      "metadata": {
        "id": "PXMb7V6mkxHh"
      }
    },
    {
      "cell_type": "markdown",
      "source": [
        "除非明確指明否則 ndarray 會自動為元素設定適當的資料型態"
      ],
      "metadata": {
        "id": "Yk3Ajbndlcqu"
      }
    },
    {
      "cell_type": "code",
      "source": [
        "arr2"
      ],
      "metadata": {
        "colab": {
          "base_uri": "https://localhost:8080/"
        },
        "id": "vG5c9WY1j-uu",
        "outputId": "b1f05f3f-bb59-4ada-d76c-958b74684124"
      },
      "execution_count": 203,
      "outputs": [
        {
          "output_type": "execute_result",
          "data": {
            "text/plain": [
              "array([[1, 2, 3, 4],\n",
              "       [5, 6, 7, 8]])"
            ]
          },
          "metadata": {},
          "execution_count": 203
        }
      ]
    },
    {
      "cell_type": "code",
      "source": [
        "arr2.dtype"
      ],
      "metadata": {
        "colab": {
          "base_uri": "https://localhost:8080/"
        },
        "id": "NPOaaskJkVWb",
        "outputId": "ea21e0b8-3052-4000-eb78-7e5a37b3862f"
      },
      "execution_count": 204,
      "outputs": [
        {
          "output_type": "execute_result",
          "data": {
            "text/plain": [
              "dtype('int64')"
            ]
          },
          "metadata": {},
          "execution_count": 204
        }
      ]
    },
    {
      "cell_type": "markdown",
      "source": [
        "---"
      ],
      "metadata": {
        "id": "l3ybQ4bAlLmC"
      }
    },
    {
      "cell_type": "markdown",
      "source": [
        "可以使用 zeros 或 ones 建立全部為 1 或 0 的陣列；另外也可以使用 empty 去建立擁有指定為度的陣列，但要注意其元素不見得為 0"
      ],
      "metadata": {
        "id": "eLBff4BYlfim"
      }
    },
    {
      "cell_type": "code",
      "source": [
        "np.zeros(10)"
      ],
      "metadata": {
        "colab": {
          "base_uri": "https://localhost:8080/"
        },
        "id": "a1p_5nxakWuf",
        "outputId": "34658bd3-6f6d-4e7b-cb9b-b20464c08bdb"
      },
      "execution_count": 205,
      "outputs": [
        {
          "output_type": "execute_result",
          "data": {
            "text/plain": [
              "array([0., 0., 0., 0., 0., 0., 0., 0., 0., 0.])"
            ]
          },
          "metadata": {},
          "execution_count": 205
        }
      ]
    },
    {
      "cell_type": "code",
      "source": [
        "np.ones([3, 6])"
      ],
      "metadata": {
        "colab": {
          "base_uri": "https://localhost:8080/"
        },
        "id": "ST5_7xACl9gu",
        "outputId": "d009e57a-2618-4218-d5c8-636b46ff06d7"
      },
      "execution_count": 206,
      "outputs": [
        {
          "output_type": "execute_result",
          "data": {
            "text/plain": [
              "array([[1., 1., 1., 1., 1., 1.],\n",
              "       [1., 1., 1., 1., 1., 1.],\n",
              "       [1., 1., 1., 1., 1., 1.]])"
            ]
          },
          "metadata": {},
          "execution_count": 206
        }
      ]
    },
    {
      "cell_type": "code",
      "source": [
        "dim = (2, 3, 2)\n",
        "np.empty(dim)"
      ],
      "metadata": {
        "colab": {
          "base_uri": "https://localhost:8080/"
        },
        "id": "VwXDOR8ql_yT",
        "outputId": "0be7ef94-29f4-4637-f69e-b9ddc475fc99"
      },
      "execution_count": 207,
      "outputs": [
        {
          "output_type": "execute_result",
          "data": {
            "text/plain": [
              "array([[[440.49722222,  33.72222222],\n",
              "        [449.73722222,  33.72222222],\n",
              "        [458.97722222,  33.72222222]],\n",
              "\n",
              "       [[458.97722222, 403.32222222],\n",
              "        [449.73722222, 403.32222222],\n",
              "        [440.49722222, 403.32222222]]])"
            ]
          },
          "metadata": {},
          "execution_count": 207
        }
      ]
    },
    {
      "cell_type": "code",
      "source": [
        "np.arange(15)"
      ],
      "metadata": {
        "colab": {
          "base_uri": "https://localhost:8080/"
        },
        "id": "9AfWrPnKmEc2",
        "outputId": "9986bc21-02cc-428f-dc07-5f4b36712550"
      },
      "execution_count": 208,
      "outputs": [
        {
          "output_type": "execute_result",
          "data": {
            "text/plain": [
              "array([ 0,  1,  2,  3,  4,  5,  6,  7,  8,  9, 10, 11, 12, 13, 14])"
            ]
          },
          "metadata": {},
          "execution_count": 208
        }
      ]
    },
    {
      "cell_type": "markdown",
      "source": [
        "\n",
        "\n",
        "---\n"
      ],
      "metadata": {
        "id": "CSe8MGJFpD43"
      }
    },
    {
      "cell_type": "markdown",
      "source": [
        "|函式|描述|\n",
        "|:---|:--|\n",
        "|array|數入資料（須為序列型態），轉換為 ndarray，可以使用 dtype 明確指定元素型態，預設複製所有輸入資料|\n",
        "|asarray|將數入轉為 ndarray，但如果輸入已經是一個 ndarray，則不進行資料複製|\n",
        "|arange|功能同內建的 range()，只是回傳的是 ndarray|\n",
        "|ones, ones_like|依照指定的 shape 和 dtype 產生全為 1 的陣列；ones_like 可以數入的另一個陣列產生 shape 和 dtype 皆相同但全為 1 的陣列|\n",
        "|zeros, zeros_like|功能同上，但元素填充為 0|\n",
        "|empty, empty_like|功能同上，但不填充元素|\n",
        "|full, full_like|指定要填充得直，一指定的 shape 和 dtype 建立新陣列|\n",
        "|eye, identity|建立 ＮxN 的單位矩陣（對角線為 1；其餘為 0）|\n"
      ],
      "metadata": {
        "id": "LygIGEnmme9k"
      }
    },
    {
      "cell_type": "markdown",
      "source": [
        "\n",
        "\n",
        "---"
      ],
      "metadata": {
        "id": "ndTsmHyfpIMw"
      }
    },
    {
      "cell_type": "markdown",
      "source": [
        "### **ndarray 的資料型態**"
      ],
      "metadata": {
        "id": "J59ZyVA1pJQ9"
      }
    },
    {
      "cell_type": "code",
      "source": [
        "arr = np.arange(5)\n",
        "arr.dtype"
      ],
      "metadata": {
        "id": "q5JM-CJYmOcw",
        "colab": {
          "base_uri": "https://localhost:8080/"
        },
        "outputId": "129861fe-8c4c-4d7b-f3a7-c37eebeeccd3"
      },
      "execution_count": 209,
      "outputs": [
        {
          "output_type": "execute_result",
          "data": {
            "text/plain": [
              "dtype('int64')"
            ]
          },
          "metadata": {},
          "execution_count": 209
        }
      ]
    },
    {
      "cell_type": "code",
      "source": [
        "float_arr = arr.astype(np.float64)\n",
        "float_arr.dtype"
      ],
      "metadata": {
        "colab": {
          "base_uri": "https://localhost:8080/"
        },
        "id": "65HIsbJprPrK",
        "outputId": "2c85154d-e012-4df7-b101-3a9a8aeae8ec"
      },
      "execution_count": 210,
      "outputs": [
        {
          "output_type": "execute_result",
          "data": {
            "text/plain": [
              "dtype('float64')"
            ]
          },
          "metadata": {},
          "execution_count": 210
        }
      ]
    },
    {
      "cell_type": "code",
      "source": [
        "arr = np.array([3.7, -1.2, -2.6, 0.5])\n",
        "arr"
      ],
      "metadata": {
        "colab": {
          "base_uri": "https://localhost:8080/"
        },
        "id": "7EMONJS4rXqt",
        "outputId": "ac5c82a8-ffa1-4d44-dab6-caeebc2d4dd0"
      },
      "execution_count": 211,
      "outputs": [
        {
          "output_type": "execute_result",
          "data": {
            "text/plain": [
              "array([ 3.7, -1.2, -2.6,  0.5])"
            ]
          },
          "metadata": {},
          "execution_count": 211
        }
      ]
    },
    {
      "cell_type": "code",
      "source": [
        "# 浮點數轉換成整數：小數部分會被截掉\n",
        "arr.astype(np.int32)"
      ],
      "metadata": {
        "colab": {
          "base_uri": "https://localhost:8080/"
        },
        "id": "UJqTRbkBriI9",
        "outputId": "dfdf6edc-d5c6-4858-9e78-5407a27c6aac"
      },
      "execution_count": 212,
      "outputs": [
        {
          "output_type": "execute_result",
          "data": {
            "text/plain": [
              "array([ 3, -1, -2,  0], dtype=int32)"
            ]
          },
          "metadata": {},
          "execution_count": 212
        }
      ]
    },
    {
      "cell_type": "markdown",
      "source": [
        "---"
      ],
      "metadata": {
        "id": "ZPAGw9I_r3br"
      }
    },
    {
      "cell_type": "markdown",
      "source": [
        "### **NumPy 陣列的算術運算**"
      ],
      "metadata": {
        "id": "TRfsppgJr42l"
      }
    },
    {
      "cell_type": "code",
      "source": [
        "arr = np.array([[1, 2, 3], [4, 5, 6]])\n",
        "arr"
      ],
      "metadata": {
        "colab": {
          "base_uri": "https://localhost:8080/"
        },
        "id": "fQe7-Eh9rsJW",
        "outputId": "17414b1e-7a12-4cd6-b0ae-9bcafb89dffa"
      },
      "execution_count": 213,
      "outputs": [
        {
          "output_type": "execute_result",
          "data": {
            "text/plain": [
              "array([[1, 2, 3],\n",
              "       [4, 5, 6]])"
            ]
          },
          "metadata": {},
          "execution_count": 213
        }
      ]
    },
    {
      "cell_type": "code",
      "source": [
        "arr * arr"
      ],
      "metadata": {
        "colab": {
          "base_uri": "https://localhost:8080/"
        },
        "id": "QCo0DWX3sPLS",
        "outputId": "e48d145c-3669-4df8-cfbd-903c712a126a"
      },
      "execution_count": 214,
      "outputs": [
        {
          "output_type": "execute_result",
          "data": {
            "text/plain": [
              "array([[ 1,  4,  9],\n",
              "       [16, 25, 36]])"
            ]
          },
          "metadata": {},
          "execution_count": 214
        }
      ]
    },
    {
      "cell_type": "code",
      "source": [
        "arr - arr"
      ],
      "metadata": {
        "colab": {
          "base_uri": "https://localhost:8080/"
        },
        "id": "M-7CA7Cvso9L",
        "outputId": "38e0dab2-cbd2-4fcd-955d-c0777bff2bbc"
      },
      "execution_count": 215,
      "outputs": [
        {
          "output_type": "execute_result",
          "data": {
            "text/plain": [
              "array([[0, 0, 0],\n",
              "       [0, 0, 0]])"
            ]
          },
          "metadata": {},
          "execution_count": 215
        }
      ]
    },
    {
      "cell_type": "code",
      "source": [
        "# 若與常數運算的話是對每個元素都操作同樣的運算\n",
        "arr + 1"
      ],
      "metadata": {
        "colab": {
          "base_uri": "https://localhost:8080/"
        },
        "id": "KwhpK1_0sqJ9",
        "outputId": "cc3fad77-9595-4c1d-805b-a60992af13f4"
      },
      "execution_count": 216,
      "outputs": [
        {
          "output_type": "execute_result",
          "data": {
            "text/plain": [
              "array([[2, 3, 4],\n",
              "       [5, 6, 7]])"
            ]
          },
          "metadata": {},
          "execution_count": 216
        }
      ]
    },
    {
      "cell_type": "code",
      "source": [
        "# 對兩個相等大小的陣列進行比較的話，就會產生出一個布林陣列\n",
        "arr2 = np.array([[0., 4., 1.], [7, 2, 12.]])\n",
        "arr2"
      ],
      "metadata": {
        "colab": {
          "base_uri": "https://localhost:8080/"
        },
        "id": "uXk2Xppksyvy",
        "outputId": "f79beb99-c915-474a-e385-b0c9a8bd375c"
      },
      "execution_count": 217,
      "outputs": [
        {
          "output_type": "execute_result",
          "data": {
            "text/plain": [
              "array([[ 0.,  4.,  1.],\n",
              "       [ 7.,  2., 12.]])"
            ]
          },
          "metadata": {},
          "execution_count": 217
        }
      ]
    },
    {
      "cell_type": "code",
      "source": [
        "arr2 > arr"
      ],
      "metadata": {
        "colab": {
          "base_uri": "https://localhost:8080/"
        },
        "id": "ubi5YLhstLRt",
        "outputId": "6ab2c3cc-d320-4f98-ddd6-81f3016f82be"
      },
      "execution_count": 218,
      "outputs": [
        {
          "output_type": "execute_result",
          "data": {
            "text/plain": [
              "array([[False,  True, False],\n",
              "       [ True, False,  True]])"
            ]
          },
          "metadata": {},
          "execution_count": 218
        }
      ]
    },
    {
      "cell_type": "markdown",
      "source": [
        "---"
      ],
      "metadata": {
        "id": "ynBiuEtBtVl6"
      }
    },
    {
      "cell_type": "markdown",
      "source": [
        "### **基本索引和切片**"
      ],
      "metadata": {
        "id": "gICS46DvtWq2"
      }
    },
    {
      "cell_type": "code",
      "source": [
        "arr = np.arange(10)\n",
        "arr"
      ],
      "metadata": {
        "colab": {
          "base_uri": "https://localhost:8080/"
        },
        "id": "4pK5GpkBtOKW",
        "outputId": "b9d2cd40-b6a2-47b0-ad60-bf8d293a0feb"
      },
      "execution_count": 219,
      "outputs": [
        {
          "output_type": "execute_result",
          "data": {
            "text/plain": [
              "array([0, 1, 2, 3, 4, 5, 6, 7, 8, 9])"
            ]
          },
          "metadata": {},
          "execution_count": 219
        }
      ]
    },
    {
      "cell_type": "code",
      "source": [
        "arr[5]"
      ],
      "metadata": {
        "colab": {
          "base_uri": "https://localhost:8080/"
        },
        "id": "rtMzS_upuC9a",
        "outputId": "1f2d8441-6dc7-42e4-cc28-de6522c9cd44"
      },
      "execution_count": 220,
      "outputs": [
        {
          "output_type": "execute_result",
          "data": {
            "text/plain": [
              "5"
            ]
          },
          "metadata": {},
          "execution_count": 220
        }
      ]
    },
    {
      "cell_type": "code",
      "source": [
        "arr[5:8]"
      ],
      "metadata": {
        "colab": {
          "base_uri": "https://localhost:8080/"
        },
        "id": "qmvwDkfHuEmr",
        "outputId": "7da9780c-7a99-493e-abaf-f1c4a481264e"
      },
      "execution_count": 221,
      "outputs": [
        {
          "output_type": "execute_result",
          "data": {
            "text/plain": [
              "array([5, 6, 7])"
            ]
          },
          "metadata": {},
          "execution_count": 221
        }
      ]
    },
    {
      "cell_type": "code",
      "source": [
        "arr[5:8] = 12"
      ],
      "metadata": {
        "id": "rP-Y4_-vuJ16"
      },
      "execution_count": 222,
      "outputs": []
    },
    {
      "cell_type": "code",
      "source": [
        "arr"
      ],
      "metadata": {
        "colab": {
          "base_uri": "https://localhost:8080/"
        },
        "id": "1MJmrE9BuPmo",
        "outputId": "3de647bc-515c-467c-f0c4-972b3d7c67df"
      },
      "execution_count": 223,
      "outputs": [
        {
          "output_type": "execute_result",
          "data": {
            "text/plain": [
              "array([ 0,  1,  2,  3,  4, 12, 12, 12,  8,  9])"
            ]
          },
          "metadata": {},
          "execution_count": 223
        }
      ]
    },
    {
      "cell_type": "markdown",
      "source": [
        "若將長數值指定給某個切片的話，該常值就會傳播到整個切片區域。<br>\n",
        "**這裡和 Python 內建 list 有個重要的區分：陣列切片是在原來的陣列上建立一個 view 而已，意思是資料其實是同一份，並且在切片上修該資料的話會同時修改到原來陣列的內容！**"
      ],
      "metadata": {
        "id": "x1J01evSuRhH"
      }
    },
    {
      "cell_type": "code",
      "source": [
        "arr_slice = arr[5:8]\n",
        "arr_slice"
      ],
      "metadata": {
        "colab": {
          "base_uri": "https://localhost:8080/"
        },
        "id": "Ogg93CvIuQFz",
        "outputId": "155c87e5-9989-402a-f477-0506b1b3ea3d"
      },
      "execution_count": 224,
      "outputs": [
        {
          "output_type": "execute_result",
          "data": {
            "text/plain": [
              "array([12, 12, 12])"
            ]
          },
          "metadata": {},
          "execution_count": 224
        }
      ]
    },
    {
      "cell_type": "code",
      "source": [
        "arr_slice[1] = 13\n",
        "arr"
      ],
      "metadata": {
        "colab": {
          "base_uri": "https://localhost:8080/"
        },
        "id": "6y6sWF93u51d",
        "outputId": "c07dc0f1-c7f2-452f-fbb7-c6e19fe5703c"
      },
      "execution_count": 225,
      "outputs": [
        {
          "output_type": "execute_result",
          "data": {
            "text/plain": [
              "array([ 0,  1,  2,  3,  4, 12, 13, 12,  8,  9])"
            ]
          },
          "metadata": {},
          "execution_count": 225
        }
      ]
    },
    {
      "cell_type": "markdown",
      "source": [
        "更高維度的操作"
      ],
      "metadata": {
        "id": "VB23qy-dviLQ"
      }
    },
    {
      "cell_type": "code",
      "source": [
        "arr2d = np.array([[1, 2, 3], [4, 5, 6], [7, 8, 9]])\n",
        "arr2d"
      ],
      "metadata": {
        "colab": {
          "base_uri": "https://localhost:8080/"
        },
        "id": "aRDaJzpwu787",
        "outputId": "1ec90382-93d7-462e-c51b-b2055f358be3"
      },
      "execution_count": 226,
      "outputs": [
        {
          "output_type": "execute_result",
          "data": {
            "text/plain": [
              "array([[1, 2, 3],\n",
              "       [4, 5, 6],\n",
              "       [7, 8, 9]])"
            ]
          },
          "metadata": {},
          "execution_count": 226
        }
      ]
    },
    {
      "cell_type": "code",
      "source": [
        "arr2d[2]"
      ],
      "metadata": {
        "colab": {
          "base_uri": "https://localhost:8080/"
        },
        "id": "afE6yGNyvslF",
        "outputId": "d9809c1d-d753-4327-bfa5-9a593c7d3131"
      },
      "execution_count": 227,
      "outputs": [
        {
          "output_type": "execute_result",
          "data": {
            "text/plain": [
              "array([7, 8, 9])"
            ]
          },
          "metadata": {},
          "execution_count": 227
        }
      ]
    },
    {
      "cell_type": "code",
      "source": [
        "arr2d[0, 2]"
      ],
      "metadata": {
        "colab": {
          "base_uri": "https://localhost:8080/"
        },
        "id": "ag3BcPa8vxke",
        "outputId": "c112e196-ce5c-4598-f3c5-072aaa6f3181"
      },
      "execution_count": 228,
      "outputs": [
        {
          "output_type": "execute_result",
          "data": {
            "text/plain": [
              "3"
            ]
          },
          "metadata": {},
          "execution_count": 228
        }
      ]
    },
    {
      "cell_type": "code",
      "source": [
        "arr2d[0, 1:]"
      ],
      "metadata": {
        "colab": {
          "base_uri": "https://localhost:8080/"
        },
        "id": "BVNe94wDvzp4",
        "outputId": "e6ecf6ad-9bd0-4eb5-fe47-399ebbe7e772"
      },
      "execution_count": 229,
      "outputs": [
        {
          "output_type": "execute_result",
          "data": {
            "text/plain": [
              "array([2, 3])"
            ]
          },
          "metadata": {},
          "execution_count": 229
        }
      ]
    },
    {
      "cell_type": "code",
      "source": [
        "arr3d = np.array([[[1, 2, 3], [4, 5, 6]], [[7, 8, 9], [10, 11, 12]]])\n",
        "arr3d"
      ],
      "metadata": {
        "id": "P6q2P9-Bv3zd",
        "colab": {
          "base_uri": "https://localhost:8080/"
        },
        "outputId": "e1517690-bb4b-4d5a-b132-9aa9546c4976"
      },
      "execution_count": 230,
      "outputs": [
        {
          "output_type": "execute_result",
          "data": {
            "text/plain": [
              "array([[[ 1,  2,  3],\n",
              "        [ 4,  5,  6]],\n",
              "\n",
              "       [[ 7,  8,  9],\n",
              "        [10, 11, 12]]])"
            ]
          },
          "metadata": {},
          "execution_count": 230
        }
      ]
    },
    {
      "cell_type": "code",
      "source": [
        "arr3d[0]"
      ],
      "metadata": {
        "colab": {
          "base_uri": "https://localhost:8080/"
        },
        "id": "ieVgFkKuxbH5",
        "outputId": "9cd23e1c-0fe4-486b-f102-2faa310997ca"
      },
      "execution_count": 231,
      "outputs": [
        {
          "output_type": "execute_result",
          "data": {
            "text/plain": [
              "array([[1, 2, 3],\n",
              "       [4, 5, 6]])"
            ]
          },
          "metadata": {},
          "execution_count": 231
        }
      ]
    },
    {
      "cell_type": "code",
      "source": [
        "old_values = arr3d[0].copy()\n",
        "arr3d[0] = 42"
      ],
      "metadata": {
        "id": "EfaYn9ZGxnYF"
      },
      "execution_count": 232,
      "outputs": []
    },
    {
      "cell_type": "code",
      "source": [
        "arr3d"
      ],
      "metadata": {
        "colab": {
          "base_uri": "https://localhost:8080/"
        },
        "id": "cfjJom4Mx49t",
        "outputId": "22ee279f-679f-4902-cafc-2358e3fbec4d"
      },
      "execution_count": 233,
      "outputs": [
        {
          "output_type": "execute_result",
          "data": {
            "text/plain": [
              "array([[[42, 42, 42],\n",
              "        [42, 42, 42]],\n",
              "\n",
              "       [[ 7,  8,  9],\n",
              "        [10, 11, 12]]])"
            ]
          },
          "metadata": {},
          "execution_count": 233
        }
      ]
    },
    {
      "cell_type": "code",
      "source": [
        "arr3d[0] = old_values"
      ],
      "metadata": {
        "id": "Anl5kdTVx9XM"
      },
      "execution_count": 234,
      "outputs": []
    },
    {
      "cell_type": "code",
      "source": [
        "arr3d"
      ],
      "metadata": {
        "colab": {
          "base_uri": "https://localhost:8080/"
        },
        "id": "kl6epovzyBnC",
        "outputId": "3bb3ae9f-d7b5-40a2-e8db-7f4f7da1026e"
      },
      "execution_count": 235,
      "outputs": [
        {
          "output_type": "execute_result",
          "data": {
            "text/plain": [
              "array([[[ 1,  2,  3],\n",
              "        [ 4,  5,  6]],\n",
              "\n",
              "       [[ 7,  8,  9],\n",
              "        [10, 11, 12]]])"
            ]
          },
          "metadata": {},
          "execution_count": 235
        }
      ]
    },
    {
      "cell_type": "code",
      "source": [
        "arr3d[0, 0, 2]"
      ],
      "metadata": {
        "colab": {
          "base_uri": "https://localhost:8080/"
        },
        "id": "_q070oRmyFe4",
        "outputId": "83990b07-9ba0-4eb0-9ef5-894df3606c97"
      },
      "execution_count": 236,
      "outputs": [
        {
          "output_type": "execute_result",
          "data": {
            "text/plain": [
              "3"
            ]
          },
          "metadata": {},
          "execution_count": 236
        }
      ]
    },
    {
      "cell_type": "markdown",
      "source": [
        "### **使用切片作為索引**"
      ],
      "metadata": {
        "id": "1M8HLZqSycRs"
      }
    },
    {
      "cell_type": "code",
      "source": [
        "arr2d = np.arange(9).reshape((3, 3)) + 1\n",
        "arr2d"
      ],
      "metadata": {
        "colab": {
          "base_uri": "https://localhost:8080/"
        },
        "id": "Io83oUiVyPhZ",
        "outputId": "2eefc5e0-ef5f-4991-b6e4-ff3e6a59e830"
      },
      "execution_count": 237,
      "outputs": [
        {
          "output_type": "execute_result",
          "data": {
            "text/plain": [
              "array([[1, 2, 3],\n",
              "       [4, 5, 6],\n",
              "       [7, 8, 9]])"
            ]
          },
          "metadata": {},
          "execution_count": 237
        }
      ]
    },
    {
      "cell_type": "code",
      "source": [
        "arr2d[:2]"
      ],
      "metadata": {
        "colab": {
          "base_uri": "https://localhost:8080/"
        },
        "id": "OKgwltASy7Ug",
        "outputId": "25e37d85-10e2-4e55-aff5-e286b4844049"
      },
      "execution_count": 238,
      "outputs": [
        {
          "output_type": "execute_result",
          "data": {
            "text/plain": [
              "array([[1, 2, 3],\n",
              "       [4, 5, 6]])"
            ]
          },
          "metadata": {},
          "execution_count": 238
        }
      ]
    },
    {
      "cell_type": "code",
      "source": [
        "arr2d[:2, 1:]"
      ],
      "metadata": {
        "colab": {
          "base_uri": "https://localhost:8080/"
        },
        "id": "bl-jvsuey9vI",
        "outputId": "1c78588b-5976-4bd3-dc04-046d20bd5f49"
      },
      "execution_count": 239,
      "outputs": [
        {
          "output_type": "execute_result",
          "data": {
            "text/plain": [
              "array([[2, 3],\n",
              "       [5, 6]])"
            ]
          },
          "metadata": {},
          "execution_count": 239
        }
      ]
    },
    {
      "cell_type": "markdown",
      "source": [
        "### **布林索引**"
      ],
      "metadata": {
        "id": "1BT5UGagzPzn"
      }
    },
    {
      "cell_type": "code",
      "source": [
        "names = np.array(['Bob', 'Joe', 'Will', 'Bob', 'Will', 'Joe', 'Joe'])\n",
        "data = np.random.randn(7, 4)"
      ],
      "metadata": {
        "id": "kYevK6KfzEzr"
      },
      "execution_count": 240,
      "outputs": []
    },
    {
      "cell_type": "code",
      "source": [
        "names"
      ],
      "metadata": {
        "colab": {
          "base_uri": "https://localhost:8080/"
        },
        "id": "9AH4DuQQzkqZ",
        "outputId": "98bb3911-eaf4-466f-8045-7a3eb2e881df"
      },
      "execution_count": 241,
      "outputs": [
        {
          "output_type": "execute_result",
          "data": {
            "text/plain": [
              "array(['Bob', 'Joe', 'Will', 'Bob', 'Will', 'Joe', 'Joe'], dtype='<U4')"
            ]
          },
          "metadata": {},
          "execution_count": 241
        }
      ]
    },
    {
      "cell_type": "code",
      "source": [
        "data"
      ],
      "metadata": {
        "colab": {
          "base_uri": "https://localhost:8080/"
        },
        "id": "ufwRUVXmzlmh",
        "outputId": "10efa3e0-6dc0-4066-dfdf-9924481fffa0"
      },
      "execution_count": 242,
      "outputs": [
        {
          "output_type": "execute_result",
          "data": {
            "text/plain": [
              "array([[ 1.0110497 ,  1.01525692, -1.04063315, -0.84393113],\n",
              "       [ 0.07064919, -1.03060245,  1.58479404,  0.91505145],\n",
              "       [ 0.64344699,  0.86865397,  0.56166312,  2.16562534],\n",
              "       [ 0.74118533, -0.27595149,  0.83967462, -0.87409187],\n",
              "       [-0.89642572, -0.22579248, -0.79220246, -0.94596797],\n",
              "       [ 1.26341971,  1.30196461, -0.89687587, -0.06465394],\n",
              "       [-0.59389895,  1.06427765, -0.9409652 ,  1.06743173]])"
            ]
          },
          "metadata": {},
          "execution_count": 242
        }
      ]
    },
    {
      "cell_type": "code",
      "source": [
        "names == 'Bob'"
      ],
      "metadata": {
        "colab": {
          "base_uri": "https://localhost:8080/"
        },
        "id": "sSDoGESzzmRf",
        "outputId": "9d1f0456-6453-4dae-dced-fdaa340b6b8f"
      },
      "execution_count": 243,
      "outputs": [
        {
          "output_type": "execute_result",
          "data": {
            "text/plain": [
              "array([ True, False, False,  True, False, False, False])"
            ]
          },
          "metadata": {},
          "execution_count": 243
        }
      ]
    },
    {
      "cell_type": "code",
      "source": [
        "data[names == 'Bob']"
      ],
      "metadata": {
        "colab": {
          "base_uri": "https://localhost:8080/"
        },
        "id": "u8YTHfcQz5da",
        "outputId": "72b372da-6373-4dc5-92f7-febb3b34a755"
      },
      "execution_count": 244,
      "outputs": [
        {
          "output_type": "execute_result",
          "data": {
            "text/plain": [
              "array([[ 1.0110497 ,  1.01525692, -1.04063315, -0.84393113],\n",
              "       [ 0.74118533, -0.27595149,  0.83967462, -0.87409187]])"
            ]
          },
          "metadata": {},
          "execution_count": 244
        }
      ]
    },
    {
      "cell_type": "code",
      "source": [
        "data[names == 'Bob', 2:]"
      ],
      "metadata": {
        "colab": {
          "base_uri": "https://localhost:8080/"
        },
        "id": "OLHtCjjQz7Xv",
        "outputId": "3157424b-2dcd-48a1-9c46-49dd30d624b9"
      },
      "execution_count": 245,
      "outputs": [
        {
          "output_type": "execute_result",
          "data": {
            "text/plain": [
              "array([[-1.04063315, -0.84393113],\n",
              "       [ 0.83967462, -0.87409187]])"
            ]
          },
          "metadata": {},
          "execution_count": 245
        }
      ]
    },
    {
      "cell_type": "code",
      "source": [
        "data[names == 'Bob', 3]"
      ],
      "metadata": {
        "colab": {
          "base_uri": "https://localhost:8080/"
        },
        "id": "ZLRdv1640Aui",
        "outputId": "5d449c8a-a6d6-4927-87aa-d85ce9f09e58"
      },
      "execution_count": 246,
      "outputs": [
        {
          "output_type": "execute_result",
          "data": {
            "text/plain": [
              "array([-0.84393113, -0.87409187])"
            ]
          },
          "metadata": {},
          "execution_count": 246
        }
      ]
    },
    {
      "cell_type": "code",
      "source": [
        "# 若要選取相反遙見可以使用 != 或是 ~\n",
        "data[~(names == 'Bob')]"
      ],
      "metadata": {
        "colab": {
          "base_uri": "https://localhost:8080/"
        },
        "id": "AZ7w6p-t0NVQ",
        "outputId": "7e5a3b67-3531-45fc-df2c-5a096abd12c6"
      },
      "execution_count": 247,
      "outputs": [
        {
          "output_type": "execute_result",
          "data": {
            "text/plain": [
              "array([[ 0.07064919, -1.03060245,  1.58479404,  0.91505145],\n",
              "       [ 0.64344699,  0.86865397,  0.56166312,  2.16562534],\n",
              "       [-0.89642572, -0.22579248, -0.79220246, -0.94596797],\n",
              "       [ 1.26341971,  1.30196461, -0.89687587, -0.06465394],\n",
              "       [-0.59389895,  1.06427765, -0.9409652 ,  1.06743173]])"
            ]
          },
          "metadata": {},
          "execution_count": 247
        }
      ]
    },
    {
      "cell_type": "code",
      "source": [
        "# 多條件時可以使用集合運算子 & （且）；|（或）\n",
        "mask = (names == 'Bob') | (names == 'Will')"
      ],
      "metadata": {
        "id": "Kx7-vGeE0ZB6"
      },
      "execution_count": 248,
      "outputs": []
    },
    {
      "cell_type": "code",
      "source": [
        "mask"
      ],
      "metadata": {
        "colab": {
          "base_uri": "https://localhost:8080/"
        },
        "id": "bD21LZrp027e",
        "outputId": "69905f94-34e0-4dde-f47a-a5e0e0036a2e"
      },
      "execution_count": 249,
      "outputs": [
        {
          "output_type": "execute_result",
          "data": {
            "text/plain": [
              "array([ True, False,  True,  True,  True, False, False])"
            ]
          },
          "metadata": {},
          "execution_count": 249
        }
      ]
    },
    {
      "cell_type": "code",
      "source": [
        "data[mask]"
      ],
      "metadata": {
        "colab": {
          "base_uri": "https://localhost:8080/"
        },
        "id": "AJAS3vpe05fx",
        "outputId": "5ec296cb-acb5-4faa-be86-0cdb9355a5f5"
      },
      "execution_count": 250,
      "outputs": [
        {
          "output_type": "execute_result",
          "data": {
            "text/plain": [
              "array([[ 1.0110497 ,  1.01525692, -1.04063315, -0.84393113],\n",
              "       [ 0.64344699,  0.86865397,  0.56166312,  2.16562534],\n",
              "       [ 0.74118533, -0.27595149,  0.83967462, -0.87409187],\n",
              "       [-0.89642572, -0.22579248, -0.79220246, -0.94596797]])"
            ]
          },
          "metadata": {},
          "execution_count": 250
        }
      ]
    },
    {
      "cell_type": "markdown",
      "source": [
        "### **花式索引**"
      ],
      "metadata": {
        "id": "2jPSPfaAHulo"
      }
    },
    {
      "cell_type": "code",
      "source": [
        "arr = np.empty((8, 4))"
      ],
      "metadata": {
        "id": "0p2kqkHw08qe"
      },
      "execution_count": 251,
      "outputs": []
    },
    {
      "cell_type": "code",
      "source": [
        "for i in range(8):\n",
        "    arr[i] = i"
      ],
      "metadata": {
        "id": "4cXved91IM4J"
      },
      "execution_count": 252,
      "outputs": []
    },
    {
      "cell_type": "code",
      "source": [
        "arr"
      ],
      "metadata": {
        "colab": {
          "base_uri": "https://localhost:8080/"
        },
        "id": "XqCkXahoIS6q",
        "outputId": "8dbc6463-ac75-4ed6-ee3a-64f8763f85a5"
      },
      "execution_count": 253,
      "outputs": [
        {
          "output_type": "execute_result",
          "data": {
            "text/plain": [
              "array([[0., 0., 0., 0.],\n",
              "       [1., 1., 1., 1.],\n",
              "       [2., 2., 2., 2.],\n",
              "       [3., 3., 3., 3.],\n",
              "       [4., 4., 4., 4.],\n",
              "       [5., 5., 5., 5.],\n",
              "       [6., 6., 6., 6.],\n",
              "       [7., 7., 7., 7.]])"
            ]
          },
          "metadata": {},
          "execution_count": 253
        }
      ]
    },
    {
      "cell_type": "code",
      "source": [
        "# 若想按照特定順序選取列，可以傳入一個指定順序的 list 或 ndarray\n",
        "arr[[4, 3, 0, 6]]"
      ],
      "metadata": {
        "colab": {
          "base_uri": "https://localhost:8080/"
        },
        "id": "9ZeuFWpnIT5h",
        "outputId": "60406e0e-41d3-4dff-e23a-a9cc24120da4"
      },
      "execution_count": 254,
      "outputs": [
        {
          "output_type": "execute_result",
          "data": {
            "text/plain": [
              "array([[4., 4., 4., 4.],\n",
              "       [3., 3., 3., 3.],\n",
              "       [0., 0., 0., 0.],\n",
              "       [6., 6., 6., 6.]])"
            ]
          },
          "metadata": {},
          "execution_count": 254
        }
      ]
    },
    {
      "cell_type": "code",
      "source": [
        "arr[[-3, -5, -7]]"
      ],
      "metadata": {
        "colab": {
          "base_uri": "https://localhost:8080/"
        },
        "id": "SJzRbTD5IrZc",
        "outputId": "7b6f600c-dfdc-4856-99f8-4cdc35d67e30"
      },
      "execution_count": 255,
      "outputs": [
        {
          "output_type": "execute_result",
          "data": {
            "text/plain": [
              "array([[5., 5., 5., 5.],\n",
              "       [3., 3., 3., 3.],\n",
              "       [1., 1., 1., 1.]])"
            ]
          },
          "metadata": {},
          "execution_count": 255
        }
      ]
    },
    {
      "cell_type": "code",
      "source": [
        "arr = np.arange(32).reshape((8, 4))\n",
        "arr"
      ],
      "metadata": {
        "colab": {
          "base_uri": "https://localhost:8080/"
        },
        "id": "8g0ElgSyIuq3",
        "outputId": "e9cb7c36-535b-4ebc-9b4a-49b1dae0831f"
      },
      "execution_count": 256,
      "outputs": [
        {
          "output_type": "execute_result",
          "data": {
            "text/plain": [
              "array([[ 0,  1,  2,  3],\n",
              "       [ 4,  5,  6,  7],\n",
              "       [ 8,  9, 10, 11],\n",
              "       [12, 13, 14, 15],\n",
              "       [16, 17, 18, 19],\n",
              "       [20, 21, 22, 23],\n",
              "       [24, 25, 26, 27],\n",
              "       [28, 29, 30, 31]])"
            ]
          },
          "metadata": {},
          "execution_count": 256
        }
      ]
    },
    {
      "cell_type": "code",
      "source": [
        "arr[[1, 5, 7, 2], [0, 3, 1, 2]]"
      ],
      "metadata": {
        "colab": {
          "base_uri": "https://localhost:8080/"
        },
        "id": "fcIyw_nNJFJO",
        "outputId": "8320758d-63f8-4367-9de5-dace17225d10"
      },
      "execution_count": 257,
      "outputs": [
        {
          "output_type": "execute_result",
          "data": {
            "text/plain": [
              "array([ 4, 23, 29, 10])"
            ]
          },
          "metadata": {},
          "execution_count": 257
        }
      ]
    },
    {
      "cell_type": "markdown",
      "source": [
        "上面的程式碼實際上是將 (1, 0) (5, 3) (7, 1) (2, 2) 的元素取出，**而非下列這種的方形區域**"
      ],
      "metadata": {
        "id": "unuqVTlLJed2"
      }
    },
    {
      "cell_type": "code",
      "source": [
        "arr[[1, 5, 7, 2]][:, [0, 3, 1, 2]]"
      ],
      "metadata": {
        "colab": {
          "base_uri": "https://localhost:8080/"
        },
        "id": "sQRdIGbZJJUI",
        "outputId": "f95e3e1e-41bb-4823-faa9-8ed4f1a2dec1"
      },
      "execution_count": 258,
      "outputs": [
        {
          "output_type": "execute_result",
          "data": {
            "text/plain": [
              "array([[ 4,  7,  5,  6],\n",
              "       [20, 23, 21, 22],\n",
              "       [28, 31, 29, 30],\n",
              "       [ 8, 11,  9, 10]])"
            ]
          },
          "metadata": {},
          "execution_count": 258
        }
      ]
    },
    {
      "cell_type": "markdown",
      "source": [
        "### **轉置陣列及軸交換**"
      ],
      "metadata": {
        "id": "W_v2tGtPKKcq"
      }
    },
    {
      "cell_type": "code",
      "source": [
        "arr = np.arange(15).reshape((3, 5))\n",
        "arr"
      ],
      "metadata": {
        "colab": {
          "base_uri": "https://localhost:8080/"
        },
        "id": "Uo7eLaxRJ_4X",
        "outputId": "3b8bd9ca-2431-43e8-e0da-884d6dae765e"
      },
      "execution_count": 259,
      "outputs": [
        {
          "output_type": "execute_result",
          "data": {
            "text/plain": [
              "array([[ 0,  1,  2,  3,  4],\n",
              "       [ 5,  6,  7,  8,  9],\n",
              "       [10, 11, 12, 13, 14]])"
            ]
          },
          "metadata": {},
          "execution_count": 259
        }
      ]
    },
    {
      "cell_type": "code",
      "source": [
        "arr.T"
      ],
      "metadata": {
        "colab": {
          "base_uri": "https://localhost:8080/"
        },
        "id": "hh4yFL_mKZWm",
        "outputId": "c8c34cdc-b1ee-4c68-9a5f-ed7d3b406269"
      },
      "execution_count": 260,
      "outputs": [
        {
          "output_type": "execute_result",
          "data": {
            "text/plain": [
              "array([[ 0,  5, 10],\n",
              "       [ 1,  6, 11],\n",
              "       [ 2,  7, 12],\n",
              "       [ 3,  8, 13],\n",
              "       [ 4,  9, 14]])"
            ]
          },
          "metadata": {},
          "execution_count": 260
        }
      ]
    },
    {
      "cell_type": "code",
      "source": [
        "# 計算內積\n",
        "arr = np.random.randn(6, 3)\n",
        "arr"
      ],
      "metadata": {
        "colab": {
          "base_uri": "https://localhost:8080/"
        },
        "id": "NTZOJnUFKa56",
        "outputId": "a7ddf152-e276-4db4-8c01-dffcef78d341"
      },
      "execution_count": 261,
      "outputs": [
        {
          "output_type": "execute_result",
          "data": {
            "text/plain": [
              "array([[-0.99944525,  1.55843177, -0.13223973],\n",
              "       [-0.23084909,  0.4081048 ,  0.19423631],\n",
              "       [-0.33452171, -0.38906941,  0.5665264 ],\n",
              "       [-0.59330784,  1.24621941,  2.2041112 ],\n",
              "       [-2.43055286, -0.61315879,  0.66763294],\n",
              "       [-0.11685199, -0.26485328, -1.76051323]])"
            ]
          },
          "metadata": {},
          "execution_count": 261
        }
      ]
    },
    {
      "cell_type": "code",
      "source": [
        "# 3*6 dot 6*3 -> 3*3\n",
        "np.dot(arr.T, arr)"
      ],
      "metadata": {
        "colab": {
          "base_uri": "https://localhost:8080/"
        },
        "id": "QMLy65TvKtXK",
        "outputId": "ebf085ad-62c9-4ef2-8d3f-3c0812ed3730"
      },
      "execution_count": 262,
      "outputs": [
        {
          "output_type": "execute_result",
          "data": {
            "text/plain": [
              "array([[ 7.43734267, -0.73975394, -2.82690245],\n",
              "       [-0.73975394,  4.74580788,  2.45648295],\n",
              "       [-2.82690245,  2.45648295,  8.77941403]])"
            ]
          },
          "metadata": {},
          "execution_count": 262
        }
      ]
    },
    {
      "cell_type": "markdown",
      "source": [
        "若要對付更高維度的陣列，transpose 方法可以接受軸編號 tuple，以這個 tuple 來排列軸"
      ],
      "metadata": {
        "id": "v0bxNJ7zLANC"
      }
    },
    {
      "cell_type": "code",
      "source": [
        "arr = np.arange(16).reshape((2, 2, 4))\n",
        "arr"
      ],
      "metadata": {
        "colab": {
          "base_uri": "https://localhost:8080/"
        },
        "id": "oCXKxGyJKweY",
        "outputId": "0d423fb2-ed21-4d45-c1ff-08a53ed5d975"
      },
      "execution_count": 263,
      "outputs": [
        {
          "output_type": "execute_result",
          "data": {
            "text/plain": [
              "array([[[ 0,  1,  2,  3],\n",
              "        [ 4,  5,  6,  7]],\n",
              "\n",
              "       [[ 8,  9, 10, 11],\n",
              "        [12, 13, 14, 15]]])"
            ]
          },
          "metadata": {},
          "execution_count": 263
        }
      ]
    },
    {
      "cell_type": "code",
      "source": [
        "arr.transpose((1, 0, 2))"
      ],
      "metadata": {
        "colab": {
          "base_uri": "https://localhost:8080/"
        },
        "id": "PXT80BNFLRFX",
        "outputId": "1409ae4d-7365-42f0-b724-c3bf27143985"
      },
      "execution_count": 264,
      "outputs": [
        {
          "output_type": "execute_result",
          "data": {
            "text/plain": [
              "array([[[ 0,  1,  2,  3],\n",
              "        [ 8,  9, 10, 11]],\n",
              "\n",
              "       [[ 4,  5,  6,  7],\n",
              "        [12, 13, 14, 15]]])"
            ]
          },
          "metadata": {},
          "execution_count": 264
        }
      ]
    },
    {
      "cell_type": "markdown",
      "source": [
        "在上述的例子中軸的次序變成第二軸優先，然後第一軸次之，最次才是第三軸"
      ],
      "metadata": {
        "id": "lINHCs_wMmJi"
      }
    },
    {
      "cell_type": "markdown",
      "source": [
        "## **4.2 全域函示：快速元素級別陣列函示**\n",
        "全域函示是一種對 ndarray 裡的資料執行元素級別運算的涵式，也稱 *ufunc*"
      ],
      "metadata": {
        "id": "zAAKKpErMxcx"
      }
    },
    {
      "cell_type": "code",
      "source": [
        "arr = np.arange(10)\n",
        "arr"
      ],
      "metadata": {
        "colab": {
          "base_uri": "https://localhost:8080/"
        },
        "id": "mnhTDTEXLc3X",
        "outputId": "9ec65bf8-37ca-40e1-cb34-539efccb9922"
      },
      "execution_count": 265,
      "outputs": [
        {
          "output_type": "execute_result",
          "data": {
            "text/plain": [
              "array([0, 1, 2, 3, 4, 5, 6, 7, 8, 9])"
            ]
          },
          "metadata": {},
          "execution_count": 265
        }
      ]
    },
    {
      "cell_type": "code",
      "source": [
        "np.sqrt(arr)"
      ],
      "metadata": {
        "colab": {
          "base_uri": "https://localhost:8080/"
        },
        "id": "xeTKYvlKNpy3",
        "outputId": "856c3ec8-9aba-4880-ede6-0f7d0581e4b4"
      },
      "execution_count": 266,
      "outputs": [
        {
          "output_type": "execute_result",
          "data": {
            "text/plain": [
              "array([0.        , 1.        , 1.41421356, 1.73205081, 2.        ,\n",
              "       2.23606798, 2.44948974, 2.64575131, 2.82842712, 3.        ])"
            ]
          },
          "metadata": {},
          "execution_count": 266
        }
      ]
    },
    {
      "cell_type": "code",
      "source": [
        "np.exp(arr)"
      ],
      "metadata": {
        "colab": {
          "base_uri": "https://localhost:8080/"
        },
        "id": "F3w28twyNo90",
        "outputId": "b1ec415b-ee0e-470d-f3c0-8eede361be8c"
      },
      "execution_count": 267,
      "outputs": [
        {
          "output_type": "execute_result",
          "data": {
            "text/plain": [
              "array([1.00000000e+00, 2.71828183e+00, 7.38905610e+00, 2.00855369e+01,\n",
              "       5.45981500e+01, 1.48413159e+02, 4.03428793e+02, 1.09663316e+03,\n",
              "       2.98095799e+03, 8.10308393e+03])"
            ]
          },
          "metadata": {},
          "execution_count": 267
        }
      ]
    },
    {
      "cell_type": "markdown",
      "source": [
        "上述為一元 *ufun*；下列則為二元全域函式的例子"
      ],
      "metadata": {
        "id": "P776HyOTNz0f"
      }
    },
    {
      "cell_type": "code",
      "source": [
        "x = np.random.randn(8)\n",
        "y = np.random.randn(8)\n",
        "print(x)\n",
        "print(y)"
      ],
      "metadata": {
        "colab": {
          "base_uri": "https://localhost:8080/"
        },
        "id": "84wYdxSdNt53",
        "outputId": "14492988-8467-4956-9f40-f1b90b71afb0"
      },
      "execution_count": 268,
      "outputs": [
        {
          "output_type": "stream",
          "name": "stdout",
          "text": [
            "[ 0.1606696   1.16734843 -1.76434179  0.30120527  1.07917512  1.95039356\n",
            "  0.95683845 -1.18016425]\n",
            "[-1.56599959 -0.1087983  -3.09792367  0.52426647 -2.0365045   0.37006681\n",
            " -1.38869655  0.20123845]\n"
          ]
        }
      ]
    },
    {
      "cell_type": "code",
      "source": [
        "np.maximum(x, y)"
      ],
      "metadata": {
        "colab": {
          "base_uri": "https://localhost:8080/"
        },
        "id": "d0Pie5mjOPEM",
        "outputId": "64b53cf6-d178-4c24-88f4-df89c34137b2"
      },
      "execution_count": 269,
      "outputs": [
        {
          "output_type": "execute_result",
          "data": {
            "text/plain": [
              "array([ 0.1606696 ,  1.16734843, -1.76434179,  0.52426647,  1.07917512,\n",
              "        1.95039356,  0.95683845,  0.20123845])"
            ]
          },
          "metadata": {},
          "execution_count": 269
        }
      ]
    },
    {
      "cell_type": "markdown",
      "source": [
        "modf 為 python 內建 divmod 的向量版本"
      ],
      "metadata": {
        "id": "HyiZkcBdOszy"
      }
    },
    {
      "cell_type": "code",
      "source": [
        "arr = np.random.randn(7) * 5\n",
        "arr"
      ],
      "metadata": {
        "colab": {
          "base_uri": "https://localhost:8080/"
        },
        "id": "PNEUQpJNORlh",
        "outputId": "9fbefafc-e455-4a9c-c66c-32beac795418"
      },
      "execution_count": 270,
      "outputs": [
        {
          "output_type": "execute_result",
          "data": {
            "text/plain": [
              "array([-6.68518075, -1.02741527,  8.10508836, -1.77400645,  9.94698774,\n",
              "       -0.28959326, -0.5527676 ])"
            ]
          },
          "metadata": {},
          "execution_count": 270
        }
      ]
    },
    {
      "cell_type": "code",
      "source": [
        "remainder, whole_part = np.modf(arr)"
      ],
      "metadata": {
        "id": "So0kPv8kOmE_"
      },
      "execution_count": 271,
      "outputs": []
    },
    {
      "cell_type": "code",
      "source": [
        "remainder"
      ],
      "metadata": {
        "colab": {
          "base_uri": "https://localhost:8080/"
        },
        "id": "pzpqrf2UOpnx",
        "outputId": "46ab8e26-bb75-4f53-c458-8615a7bcdfa5"
      },
      "execution_count": 272,
      "outputs": [
        {
          "output_type": "execute_result",
          "data": {
            "text/plain": [
              "array([-0.68518075, -0.02741527,  0.10508836, -0.77400645,  0.94698774,\n",
              "       -0.28959326, -0.5527676 ])"
            ]
          },
          "metadata": {},
          "execution_count": 272
        }
      ]
    },
    {
      "cell_type": "code",
      "source": [
        "whole_part"
      ],
      "metadata": {
        "colab": {
          "base_uri": "https://localhost:8080/"
        },
        "id": "kfl-du6kOqpe",
        "outputId": "fdc24114-18e4-450e-ffde-3204a9b684c3"
      },
      "execution_count": 273,
      "outputs": [
        {
          "output_type": "execute_result",
          "data": {
            "text/plain": [
              "array([-6., -1.,  8., -1.,  9., -0., -0.])"
            ]
          },
          "metadata": {},
          "execution_count": 273
        }
      ]
    },
    {
      "cell_type": "markdown",
      "source": [
        "## **4.3 用陣列寫陣列導向程式**"
      ],
      "metadata": {
        "id": "-mrIXT2HPRPk"
      }
    },
    {
      "cell_type": "code",
      "source": [
        "points = np.arange(-5, 5, 0.01) # 1000個等距點"
      ],
      "metadata": {
        "id": "HKBhK2ObOru5"
      },
      "execution_count": 274,
      "outputs": []
    },
    {
      "cell_type": "code",
      "source": [
        "# np.meshgrid 接受一維陣列參數並產生出兩個二維矩陣，\n",
        "# 這兩個二維矩陣能將原來兩個陣列中所有元素配對成一組組 (x, y)\n",
        "xs, ys = np.meshgrid(points, points)"
      ],
      "metadata": {
        "id": "3GIXPn0hQQLw"
      },
      "execution_count": 275,
      "outputs": []
    },
    {
      "cell_type": "code",
      "source": [
        "xs"
      ],
      "metadata": {
        "colab": {
          "base_uri": "https://localhost:8080/"
        },
        "id": "heD0R-WdQnw2",
        "outputId": "c85df6e5-6c97-4817-b595-18de4917cfee"
      },
      "execution_count": 276,
      "outputs": [
        {
          "output_type": "execute_result",
          "data": {
            "text/plain": [
              "array([[-5.  , -4.99, -4.98, ...,  4.97,  4.98,  4.99],\n",
              "       [-5.  , -4.99, -4.98, ...,  4.97,  4.98,  4.99],\n",
              "       [-5.  , -4.99, -4.98, ...,  4.97,  4.98,  4.99],\n",
              "       ...,\n",
              "       [-5.  , -4.99, -4.98, ...,  4.97,  4.98,  4.99],\n",
              "       [-5.  , -4.99, -4.98, ...,  4.97,  4.98,  4.99],\n",
              "       [-5.  , -4.99, -4.98, ...,  4.97,  4.98,  4.99]])"
            ]
          },
          "metadata": {},
          "execution_count": 276
        }
      ]
    },
    {
      "cell_type": "code",
      "source": [
        "ys"
      ],
      "metadata": {
        "colab": {
          "base_uri": "https://localhost:8080/"
        },
        "id": "t5YPCPoIQocW",
        "outputId": "a00cb869-d773-4353-88b1-3eb152ea0180"
      },
      "execution_count": 277,
      "outputs": [
        {
          "output_type": "execute_result",
          "data": {
            "text/plain": [
              "array([[-5.  , -5.  , -5.  , ..., -5.  , -5.  , -5.  ],\n",
              "       [-4.99, -4.99, -4.99, ..., -4.99, -4.99, -4.99],\n",
              "       [-4.98, -4.98, -4.98, ..., -4.98, -4.98, -4.98],\n",
              "       ...,\n",
              "       [ 4.97,  4.97,  4.97, ...,  4.97,  4.97,  4.97],\n",
              "       [ 4.98,  4.98,  4.98, ...,  4.98,  4.98,  4.98],\n",
              "       [ 4.99,  4.99,  4.99, ...,  4.99,  4.99,  4.99]])"
            ]
          },
          "metadata": {},
          "execution_count": 277
        }
      ]
    },
    {
      "cell_type": "code",
      "source": [
        "z = np.sqrt(xs ** 2 + ys ** 2)\n",
        "z"
      ],
      "metadata": {
        "colab": {
          "base_uri": "https://localhost:8080/"
        },
        "id": "WPTBoLtFQpof",
        "outputId": "a337d680-bc7f-4011-d36c-d1a9859b2224"
      },
      "execution_count": 278,
      "outputs": [
        {
          "output_type": "execute_result",
          "data": {
            "text/plain": [
              "array([[7.07106781, 7.06400028, 7.05693985, ..., 7.04988652, 7.05693985,\n",
              "        7.06400028],\n",
              "       [7.06400028, 7.05692568, 7.04985815, ..., 7.04279774, 7.04985815,\n",
              "        7.05692568],\n",
              "       [7.05693985, 7.04985815, 7.04278354, ..., 7.03571603, 7.04278354,\n",
              "        7.04985815],\n",
              "       ...,\n",
              "       [7.04988652, 7.04279774, 7.03571603, ..., 7.0286414 , 7.03571603,\n",
              "        7.04279774],\n",
              "       [7.05693985, 7.04985815, 7.04278354, ..., 7.03571603, 7.04278354,\n",
              "        7.04985815],\n",
              "       [7.06400028, 7.05692568, 7.04985815, ..., 7.04279774, 7.04985815,\n",
              "        7.05692568]])"
            ]
          },
          "metadata": {},
          "execution_count": 278
        }
      ]
    },
    {
      "cell_type": "code",
      "source": [
        "import matplotlib.pyplot as plt\n",
        "plt.title(\"Image plot of $\\sqrt{x^2 + y^2}$ for a grid of values\")\n",
        "plt.imshow(z, cmap = plt.cm.gray); plt.colorbar()"
      ],
      "metadata": {
        "colab": {
          "base_uri": "https://localhost:8080/"
        },
        "id": "xO17sxJ3RUOP",
        "outputId": "67de20db-d65a-4f15-bf07-ef7b00b6d4fa"
      },
      "execution_count": 279,
      "outputs": [
        {
          "output_type": "execute_result",
          "data": {
            "text/plain": [
              "<matplotlib.colorbar.Colorbar at 0x7fbc0c9c2b60>"
            ]
          },
          "metadata": {},
          "execution_count": 279
        },
        {
          "output_type": "display_data",
          "data": {
            "text/plain": [
              "<Figure size 640x480 with 2 Axes>"
            ],
            "image/png": "[encoded data removed]"
          },
          "metadata": {}
        }
      ]
    },
    {
      "cell_type": "markdown",
      "source": [
        "### **用陣列運算表達條件邏輯**\n",
        "numpy.where 函式是 x if condition else y 這個三元表達式的向量版本"
      ],
      "metadata": {
        "id": "MRgaPbQCSRgd"
      }
    },
    {
      "cell_type": "code",
      "source": [
        "x_arr = np.array([1.1, 1.2, 1.3, 1.4, 1.5])\n",
        "y_arr = np.array([2.1, 2.2, 2.3, 2.4, 2.5])\n",
        "cond= np.array([True, False, True, True, False])"
      ],
      "metadata": {
        "id": "3GEl0YCNR4Pv"
      },
      "execution_count": 280,
      "outputs": []
    },
    {
      "cell_type": "code",
      "source": [
        "result = [(x if c else y) for x, y, c in zip(x_arr, y_arr, cond)]\n",
        "result = np.array(result)\n",
        "result"
      ],
      "metadata": {
        "colab": {
          "base_uri": "https://localhost:8080/"
        },
        "id": "0eYz8SmASyDD",
        "outputId": "d7c5f1ce-b8ce-437a-cfcb-489844f57dc9"
      },
      "execution_count": 281,
      "outputs": [
        {
          "output_type": "execute_result",
          "data": {
            "text/plain": [
              "array([1.1, 2.2, 1.3, 1.4, 2.5])"
            ]
          },
          "metadata": {},
          "execution_count": 281
        }
      ]
    },
    {
      "cell_type": "code",
      "source": [
        "result = np.where(cond, x_arr, y_arr)\n",
        "result"
      ],
      "metadata": {
        "colab": {
          "base_uri": "https://localhost:8080/"
        },
        "id": "UjQJLNSXTOGQ",
        "outputId": "41537734-231e-4696-9a3c-e941d4c39222"
      },
      "execution_count": 282,
      "outputs": [
        {
          "output_type": "execute_result",
          "data": {
            "text/plain": [
              "array([1.1, 2.2, 1.3, 1.4, 2.5])"
            ]
          },
          "metadata": {},
          "execution_count": 282
        }
      ]
    },
    {
      "cell_type": "markdown",
      "source": [
        "假設資料處理有一筆隨機資料，我們想要將其正值改為 2，其負值改為 -2"
      ],
      "metadata": {
        "id": "TQ25Jt7WTj1Y"
      }
    },
    {
      "cell_type": "code",
      "source": [
        "arr = np.random.randn(4, 4)\n",
        "arr"
      ],
      "metadata": {
        "colab": {
          "base_uri": "https://localhost:8080/"
        },
        "id": "Nir8ELl5TYSA",
        "outputId": "b4c59f82-fca1-4c95-e9c7-9b8b375285fe"
      },
      "execution_count": 283,
      "outputs": [
        {
          "output_type": "execute_result",
          "data": {
            "text/plain": [
              "array([[-1.3695325 ,  0.43764448,  1.44901952,  0.890519  ],\n",
              "       [-0.37298669,  0.33612727,  1.01117369, -3.06056968],\n",
              "       [-0.21242167,  2.61861921, -0.24685636, -0.94310735],\n",
              "       [ 0.62719181,  0.18044249,  1.22015751, -1.10989804]])"
            ]
          },
          "metadata": {},
          "execution_count": 283
        }
      ]
    },
    {
      "cell_type": "code",
      "source": [
        "np.where(arr > 0, 2, -2)"
      ],
      "metadata": {
        "colab": {
          "base_uri": "https://localhost:8080/"
        },
        "id": "C-wykrNeT0iI",
        "outputId": "f88183f1-5b63-4389-9412-aee1947d236e"
      },
      "execution_count": 284,
      "outputs": [
        {
          "output_type": "execute_result",
          "data": {
            "text/plain": [
              "array([[-2,  2,  2,  2],\n",
              "       [-2,  2,  2, -2],\n",
              "       [-2,  2, -2, -2],\n",
              "       [ 2,  2,  2, -2]])"
            ]
          },
          "metadata": {},
          "execution_count": 284
        }
      ]
    },
    {
      "cell_type": "code",
      "source": [
        "# 也可以讓負值維持原值\n",
        "np.where(arr > 0, 2, arr)"
      ],
      "metadata": {
        "colab": {
          "base_uri": "https://localhost:8080/"
        },
        "id": "B0byj_wzT4kL",
        "outputId": "5e6fc945-e3f2-4c1c-8924-d0908eac4ba7"
      },
      "execution_count": 285,
      "outputs": [
        {
          "output_type": "execute_result",
          "data": {
            "text/plain": [
              "array([[-1.3695325 ,  2.        ,  2.        ,  2.        ],\n",
              "       [-0.37298669,  2.        ,  2.        , -3.06056968],\n",
              "       [-0.21242167,  2.        , -0.24685636, -0.94310735],\n",
              "       [ 2.        ,  2.        ,  2.        , -1.10989804]])"
            ]
          },
          "metadata": {},
          "execution_count": 285
        }
      ]
    },
    {
      "cell_type": "markdown",
      "source": [
        "### **數學和統計方法**"
      ],
      "metadata": {
        "id": "i7Y1ATKMZ98z"
      }
    },
    {
      "cell_type": "code",
      "source": [
        "arr = np.random.randn(5, 4)\n",
        "arr"
      ],
      "metadata": {
        "colab": {
          "base_uri": "https://localhost:8080/"
        },
        "id": "V3wln3w0ULg2",
        "outputId": "5d77f2ac-c98d-4121-9fbb-da4a43b966eb"
      },
      "execution_count": 286,
      "outputs": [
        {
          "output_type": "execute_result",
          "data": {
            "text/plain": [
              "array([[-2.16715865,  0.68202755,  1.45171228,  1.48142701],\n",
              "       [ 0.70759731,  0.58742587, -0.40598544,  0.83157203],\n",
              "       [-1.21867163,  0.28836194, -0.40286593,  0.24780269],\n",
              "       [ 0.80048723, -0.63708508, -0.30038813,  0.94620602],\n",
              "       [ 0.3339385 , -0.25282817, -0.3172815 , -1.28593186]])"
            ]
          },
          "metadata": {},
          "execution_count": 286
        }
      ]
    },
    {
      "cell_type": "code",
      "source": [
        "arr.mean()"
      ],
      "metadata": {
        "colab": {
          "base_uri": "https://localhost:8080/"
        },
        "id": "5TxDP9pVaNWb",
        "outputId": "864ccbfb-c053-4732-fec3-5e3dbc5001bb"
      },
      "execution_count": 287,
      "outputs": [
        {
          "output_type": "execute_result",
          "data": {
            "text/plain": [
              "0.06851810307572839"
            ]
          },
          "metadata": {},
          "execution_count": 287
        }
      ]
    },
    {
      "cell_type": "code",
      "source": [
        "np.mean(arr)"
      ],
      "metadata": {
        "colab": {
          "base_uri": "https://localhost:8080/"
        },
        "id": "5QW3L4ySaOgr",
        "outputId": "e66a0d6a-3130-4103-b1e5-1fdad2dbe4d6"
      },
      "execution_count": 288,
      "outputs": [
        {
          "output_type": "execute_result",
          "data": {
            "text/plain": [
              "0.06851810307572839"
            ]
          },
          "metadata": {},
          "execution_count": 288
        }
      ]
    },
    {
      "cell_type": "code",
      "source": [
        "arr.sum()"
      ],
      "metadata": {
        "colab": {
          "base_uri": "https://localhost:8080/"
        },
        "id": "-Vh_SoIMaQM0",
        "outputId": "9ba9b707-1118-4beb-9d46-e4e2d01c58d6"
      },
      "execution_count": 289,
      "outputs": [
        {
          "output_type": "execute_result",
          "data": {
            "text/plain": [
              "1.3703620615145677"
            ]
          },
          "metadata": {},
          "execution_count": 289
        }
      ]
    },
    {
      "cell_type": "code",
      "source": [
        "np.sum(arr)"
      ],
      "metadata": {
        "colab": {
          "base_uri": "https://localhost:8080/"
        },
        "id": "VxfksN3JaSH8",
        "outputId": "9bed3bf3-4d86-4da5-b89b-c36d09a507d3"
      },
      "execution_count": 290,
      "outputs": [
        {
          "output_type": "execute_result",
          "data": {
            "text/plain": [
              "1.3703620615145677"
            ]
          },
          "metadata": {},
          "execution_count": 290
        }
      ]
    },
    {
      "cell_type": "markdown",
      "source": [
        "像是 sum() mean() 這種函式可以接受 axis 指定軸方向計算統計資料"
      ],
      "metadata": {
        "id": "-jliXlHpaXHq"
      }
    },
    {
      "cell_type": "code",
      "source": [
        "arr = np.arange(10).reshape((5, 2))\n",
        "arr"
      ],
      "metadata": {
        "colab": {
          "base_uri": "https://localhost:8080/"
        },
        "id": "ewh-FJ9yaWrg",
        "outputId": "7228d8c1-7fc3-4bf4-eaea-197195139ea0"
      },
      "execution_count": 291,
      "outputs": [
        {
          "output_type": "execute_result",
          "data": {
            "text/plain": [
              "array([[0, 1],\n",
              "       [2, 3],\n",
              "       [4, 5],\n",
              "       [6, 7],\n",
              "       [8, 9]])"
            ]
          },
          "metadata": {},
          "execution_count": 291
        }
      ]
    },
    {
      "cell_type": "code",
      "source": [
        "arr.mean(axis = 1)"
      ],
      "metadata": {
        "colab": {
          "base_uri": "https://localhost:8080/"
        },
        "id": "pmzpI1gNaTI3",
        "outputId": "7849383c-955d-4166-b065-8974ad9bf4f2"
      },
      "execution_count": 292,
      "outputs": [
        {
          "output_type": "execute_result",
          "data": {
            "text/plain": [
              "array([0.5, 2.5, 4.5, 6.5, 8.5])"
            ]
          },
          "metadata": {},
          "execution_count": 292
        }
      ]
    },
    {
      "cell_type": "code",
      "source": [
        "arr.sum(axis = 0)"
      ],
      "metadata": {
        "colab": {
          "base_uri": "https://localhost:8080/"
        },
        "id": "RMZbqbBDbWJf",
        "outputId": "3d03a8a6-1d89-4f50-e4c7-00013ad6a8d5"
      },
      "execution_count": 293,
      "outputs": [
        {
          "output_type": "execute_result",
          "data": {
            "text/plain": [
              "array([20, 25])"
            ]
          },
          "metadata": {},
          "execution_count": 293
        }
      ]
    },
    {
      "cell_type": "markdown",
      "source": [
        "cumsum 和 cumprod 不會做聚合，會回傳結果陣列"
      ],
      "metadata": {
        "id": "-oqIcQ_rbjF0"
      }
    },
    {
      "cell_type": "code",
      "source": [
        "arr = np.arange(9).reshape(3, 3)\n",
        "arr"
      ],
      "metadata": {
        "colab": {
          "base_uri": "https://localhost:8080/"
        },
        "id": "Nd3-gBvhbY4g",
        "outputId": "6b11de85-39e8-493c-cbca-c92c21801ef8"
      },
      "execution_count": 294,
      "outputs": [
        {
          "output_type": "execute_result",
          "data": {
            "text/plain": [
              "array([[0, 1, 2],\n",
              "       [3, 4, 5],\n",
              "       [6, 7, 8]])"
            ]
          },
          "metadata": {},
          "execution_count": 294
        }
      ]
    },
    {
      "cell_type": "code",
      "source": [
        "arr.cumsum(axis = 0)"
      ],
      "metadata": {
        "colab": {
          "base_uri": "https://localhost:8080/"
        },
        "id": "gKd0nE2Ab4fb",
        "outputId": "9cbe4a4c-1698-49e9-a4e4-344ddf134a15"
      },
      "execution_count": 295,
      "outputs": [
        {
          "output_type": "execute_result",
          "data": {
            "text/plain": [
              "array([[ 0,  1,  2],\n",
              "       [ 3,  5,  7],\n",
              "       [ 9, 12, 15]])"
            ]
          },
          "metadata": {},
          "execution_count": 295
        }
      ]
    },
    {
      "cell_type": "code",
      "source": [
        "arr.cumprod(axis = 1)"
      ],
      "metadata": {
        "colab": {
          "base_uri": "https://localhost:8080/"
        },
        "id": "7yWLm7beb-AU",
        "outputId": "bf8c7144-8627-407a-b848-b3ba72bfc98f"
      },
      "execution_count": 296,
      "outputs": [
        {
          "output_type": "execute_result",
          "data": {
            "text/plain": [
              "array([[  0,   0,   0],\n",
              "       [  3,  12,  60],\n",
              "       [  6,  42, 336]])"
            ]
          },
          "metadata": {},
          "execution_count": 296
        }
      ]
    },
    {
      "cell_type": "markdown",
      "source": [
        "### **其他方法**"
      ],
      "metadata": {
        "id": "X9Z5t_yIckof"
      }
    },
    {
      "cell_type": "code",
      "source": [
        "# 排序\n",
        "arr = np.random.randn(6)\n",
        "arr"
      ],
      "metadata": {
        "colab": {
          "base_uri": "https://localhost:8080/"
        },
        "id": "3WpsnEEjcBTn",
        "outputId": "d226fb1b-b60a-41d8-9d94-d0ce93fca6a0"
      },
      "execution_count": 297,
      "outputs": [
        {
          "output_type": "execute_result",
          "data": {
            "text/plain": [
              "array([-2.18139064, -0.40827837,  1.40188237, -0.52370491,  1.0056394 ,\n",
              "        1.69544911])"
            ]
          },
          "metadata": {},
          "execution_count": 297
        }
      ]
    },
    {
      "cell_type": "code",
      "source": [
        "arr.sort()\n",
        "arr"
      ],
      "metadata": {
        "colab": {
          "base_uri": "https://localhost:8080/"
        },
        "id": "sJUzT0qncuaT",
        "outputId": "f2bc3ebf-e2b3-42a2-f5bb-da94a0e33ce6"
      },
      "execution_count": 298,
      "outputs": [
        {
          "output_type": "execute_result",
          "data": {
            "text/plain": [
              "array([-2.18139064, -0.52370491, -0.40827837,  1.0056394 ,  1.40188237,\n",
              "        1.69544911])"
            ]
          },
          "metadata": {},
          "execution_count": 298
        }
      ]
    },
    {
      "cell_type": "code",
      "source": [
        "# unique (distinct)\n",
        "names = np.array(['Bob', 'Joe', 'Will', 'Bob'])\n",
        "names"
      ],
      "metadata": {
        "colab": {
          "base_uri": "https://localhost:8080/"
        },
        "id": "isfYOifpc1LG",
        "outputId": "44e2d805-8227-4b11-cef8-0d71ae4f85a9"
      },
      "execution_count": 299,
      "outputs": [
        {
          "output_type": "execute_result",
          "data": {
            "text/plain": [
              "array(['Bob', 'Joe', 'Will', 'Bob'], dtype='<U4')"
            ]
          },
          "metadata": {},
          "execution_count": 299
        }
      ]
    },
    {
      "cell_type": "code",
      "source": [
        "np.unique(names)"
      ],
      "metadata": {
        "colab": {
          "base_uri": "https://localhost:8080/"
        },
        "id": "a9a6DkUAdG45",
        "outputId": "d2fc7dfe-17e9-4003-ee15-8b4a8236cb5b"
      },
      "execution_count": 300,
      "outputs": [
        {
          "output_type": "execute_result",
          "data": {
            "text/plain": [
              "array(['Bob', 'Joe', 'Will'], dtype='<U4')"
            ]
          },
          "metadata": {},
          "execution_count": 300
        }
      ]
    },
    {
      "cell_type": "markdown",
      "source": [
        "## **4.4 從檔案輸入或輸出值到陣列**"
      ],
      "metadata": {
        "id": "pMSrsv9rdO_w"
      }
    },
    {
      "cell_type": "code",
      "source": [
        "arr = np.arange(10)\n",
        "np.save('some_array', arr)"
      ],
      "metadata": {
        "id": "4q2MlRS4dJZu"
      },
      "execution_count": 301,
      "outputs": []
    },
    {
      "cell_type": "code",
      "source": [
        "np.load('some_array.npy')"
      ],
      "metadata": {
        "colab": {
          "base_uri": "https://localhost:8080/"
        },
        "id": "R-ItEtlgeAZ6",
        "outputId": "060dea2f-df3c-488e-a45b-79803fe32c82"
      },
      "execution_count": 302,
      "outputs": [
        {
          "output_type": "execute_result",
          "data": {
            "text/plain": [
              "array([0, 1, 2, 3, 4, 5, 6, 7, 8, 9])"
            ]
          },
          "metadata": {},
          "execution_count": 302
        }
      ]
    },
    {
      "cell_type": "code",
      "source": [
        "# 儲存多個陣列，可以得到一個 dict-like object\n",
        "np.savez('array_archive', a=arr, b=arr)"
      ],
      "metadata": {
        "id": "5jDoXkxheHGj"
      },
      "execution_count": 303,
      "outputs": []
    },
    {
      "cell_type": "code",
      "source": [
        "arch = np.load('array_archive.npz')\n",
        "arch['b']"
      ],
      "metadata": {
        "colab": {
          "base_uri": "https://localhost:8080/"
        },
        "id": "W7noy-dfeZsq",
        "outputId": "68eeefd7-9e29-4df6-cb79-c8f60d15adb5"
      },
      "execution_count": 304,
      "outputs": [
        {
          "output_type": "execute_result",
          "data": {
            "text/plain": [
              "array([0, 1, 2, 3, 4, 5, 6, 7, 8, 9])"
            ]
          },
          "metadata": {},
          "execution_count": 304
        }
      ]
    },
    {
      "cell_type": "markdown",
      "source": [
        "## **4.5 線性代數**"
      ],
      "metadata": {
        "id": "vl9atLyue00T"
      }
    },
    {
      "cell_type": "code",
      "source": [
        "x = np.arange(6).reshape(2, 3) + 1\n",
        "x"
      ],
      "metadata": {
        "colab": {
          "base_uri": "https://localhost:8080/"
        },
        "id": "YPahZtSfeko_",
        "outputId": "7699b470-5718-4a23-d681-c1e9a95d7683"
      },
      "execution_count": 305,
      "outputs": [
        {
          "output_type": "execute_result",
          "data": {
            "text/plain": [
              "array([[1, 2, 3],\n",
              "       [4, 5, 6]])"
            ]
          },
          "metadata": {},
          "execution_count": 305
        }
      ]
    },
    {
      "cell_type": "code",
      "source": [
        "y = np.array([[6, 23], [-1, 7], [8, 9]], dtype=np.float64)\n",
        "y"
      ],
      "metadata": {
        "colab": {
          "base_uri": "https://localhost:8080/"
        },
        "id": "qhPRxZybfPR8",
        "outputId": "4b124965-88f7-49f9-ee0e-c34cce4a5d60"
      },
      "execution_count": 306,
      "outputs": [
        {
          "output_type": "execute_result",
          "data": {
            "text/plain": [
              "array([[ 6., 23.],\n",
              "       [-1.,  7.],\n",
              "       [ 8.,  9.]])"
            ]
          },
          "metadata": {},
          "execution_count": 306
        }
      ]
    },
    {
      "cell_type": "code",
      "source": [
        "x.dot(y)"
      ],
      "metadata": {
        "colab": {
          "base_uri": "https://localhost:8080/"
        },
        "id": "YvUbqfjXfYR5",
        "outputId": "b93a725d-f53c-44fe-9456-3cc27cfabf1f"
      },
      "execution_count": 307,
      "outputs": [
        {
          "output_type": "execute_result",
          "data": {
            "text/plain": [
              "array([[ 28.,  64.],\n",
              "       [ 67., 181.]])"
            ]
          },
          "metadata": {},
          "execution_count": 307
        }
      ]
    },
    {
      "cell_type": "code",
      "source": [
        "x @ y"
      ],
      "metadata": {
        "colab": {
          "base_uri": "https://localhost:8080/"
        },
        "id": "0nxvyEw7fhZa",
        "outputId": "e3e49c21-a27e-41a6-b11c-594daa46a51d"
      },
      "execution_count": 308,
      "outputs": [
        {
          "output_type": "execute_result",
          "data": {
            "text/plain": [
              "array([[ 28.,  64.],\n",
              "       [ 67., 181.]])"
            ]
          },
          "metadata": {},
          "execution_count": 308
        }
      ]
    },
    {
      "cell_type": "markdown",
      "source": [
        "## **4.6 生成偽隨機數**"
      ],
      "metadata": {
        "id": "w9875Cnuf7Bx"
      }
    },
    {
      "cell_type": "code",
      "source": [
        "samples = np.random.normal(size = (4, 4))\n",
        "samples"
      ],
      "metadata": {
        "colab": {
          "base_uri": "https://localhost:8080/"
        },
        "id": "SifT_jhuftU8",
        "outputId": "9c3d80b1-b388-4daa-8be7-50cec53b9424"
      },
      "execution_count": 309,
      "outputs": [
        {
          "output_type": "execute_result",
          "data": {
            "text/plain": [
              "array([[ 1.38757153, -0.54231274, -0.24626406,  0.01851305],\n",
              "       [-0.13041961,  0.25351363,  0.34556735,  0.91304394],\n",
              "       [ 0.75903551,  2.57123844,  1.47198031, -0.25909492],\n",
              "       [-0.1186404 ,  0.40956593, -0.47066256, -0.83266725]])"
            ]
          },
          "metadata": {},
          "execution_count": 309
        }
      ]
    },
    {
      "cell_type": "markdown",
      "source": [
        "|函式|描述|\n",
        "|:-|:-|\n",
        "|seed|設定涮物產生器種子|\n",
        "|permutation|回傳一個打亂過的序列，或是打亂過的陣列|\n",
        "|shuffle|以 in-place 的方式打亂一個序列|\n",
        "|rand|從均勻分布中抽取樣本|\n",
        "|randn|從標準常態分配中抽取樣本|\n",
        "|randint|指低到高區間並從中抽取整數樣本|\n",
        "|binomial|從二項分布中抽取樣本|\n",
        "|normal|從常態分布中抽取樣本|\n",
        "|beta|從 beta 中抽取樣本|\n",
        "|chisquare|同理|\n",
        "|gamma|同理|\n",
        "|uniform|從均勻分布 [0, 1) 中抽取樣本|\n"
      ],
      "metadata": {
        "id": "O2Dqg_xEgRAt"
      }
    },
    {
      "cell_type": "markdown",
      "source": [
        "## **4.7 模擬隨機漫步**"
      ],
      "metadata": {
        "id": "u-iLr4WthZRs"
      }
    },
    {
      "cell_type": "code",
      "source": [
        "# 以純 python 示範：\n",
        "import random\n",
        "\n",
        "position = 0\n",
        "walk = [position]\n",
        "\n",
        "steps = 1000\n",
        "for i in range(steps):\n",
        "    step = 1 if random.randint(0, 1) else -1\n",
        "    position += step\n",
        "    walk.append(position)\n",
        "\n",
        "plt.plot(walk[:100])"
      ],
      "metadata": {
        "colab": {
          "base_uri": "https://localhost:8080/"
        },
        "id": "lO-hQGqqgGOp",
        "outputId": "ba62846a-d27a-4a5a-ecd7-b73ff5dcd287"
      },
      "execution_count": 310,
      "outputs": [
        {
          "output_type": "execute_result",
          "data": {
            "text/plain": [
              "[<matplotlib.lines.Line2D at 0x7fbc0c9bd510>]"
            ]
          },
          "metadata": {},
          "execution_count": 310
        },
        {
          "output_type": "display_data",
          "data": {
            "text/plain": [
              "<Figure size 640x480 with 1 Axes>"
            ],
            "image/png": "[encoded data removed]"
          },
          "metadata": {}
        }
      ]
    },
    {
      "cell_type": "markdown",
      "source": [
        "實際上 walk 其實就是把隨機的每一步加總，也可以被當作陣列來運算，就像我用 np.random 模組連續投擲硬幣 10000 次，正面為 1 反面為 -1，然後計算累加總數"
      ],
      "metadata": {
        "id": "YvqY3bmGifcx"
      }
    },
    {
      "cell_type": "code",
      "source": [
        "n_steps = 1000\n",
        "draws = np.random.randint(0, 2, size = n_steps)\n",
        "steps = np.where(draws > 0, 1, -1)\n",
        "walk = steps.cumsum()\n",
        "\n",
        "plt.plot(walk[:100])"
      ],
      "metadata": {
        "colab": {
          "base_uri": "https://localhost:8080/"
        },
        "id": "PIX6d9D-iTem",
        "outputId": "97457b6e-810d-4392-d10f-b6e8b0bed45c"
      },
      "execution_count": 311,
      "outputs": [
        {
          "output_type": "execute_result",
          "data": {
            "text/plain": [
              "[<matplotlib.lines.Line2D at 0x7fbc0c523a00>]"
            ]
          },
          "metadata": {},
          "execution_count": 311
        },
        {
          "output_type": "display_data",
          "data": {
            "text/plain": [
              "<Figure size 640x480 with 1 Axes>"
            ],
            "image/png": "[encoded data removed]"
          },
          "metadata": {}
        }
      ]
    },
    {
      "cell_type": "code",
      "source": [
        "# 尋找首次穿越時間：走多少部後可以達到我們想要的指定值\n",
        "(np.abs(walk) >= 10).argmax() # 尋找何時達到 10 或 -10 遠的地方\n",
        "# argmax() 回傳最大值所在位置（重複的話會回穿第一個出現的位置）"
      ],
      "metadata": {
        "colab": {
          "base_uri": "https://localhost:8080/"
        },
        "id": "o0MPRF9tjbcg",
        "outputId": "08997e25-0008-4b9d-bb78-43b756f881c5"
      },
      "execution_count": 312,
      "outputs": [
        {
          "output_type": "execute_result",
          "data": {
            "text/plain": [
              "33"
            ]
          },
          "metadata": {},
          "execution_count": 312
        }
      ]
    },
    {
      "cell_type": "code",
      "source": [
        "walk[20]"
      ],
      "metadata": {
        "colab": {
          "base_uri": "https://localhost:8080/"
        },
        "id": "vyU6eWjzkgbl",
        "outputId": "c7d5cfce-16a9-4130-d141-3471521069b2"
      },
      "execution_count": 313,
      "outputs": [
        {
          "output_type": "execute_result",
          "data": {
            "text/plain": [
              "-1"
            ]
          },
          "metadata": {},
          "execution_count": 313
        }
      ]
    },
    {
      "cell_type": "markdown",
      "source": [
        "### **一次模擬許多隨機漫步過程**"
      ],
      "metadata": {
        "id": "RhP0Cy38kmZh"
      }
    },
    {
      "cell_type": "code",
      "source": [
        "nwalks = 5000 # 模擬 5000 次隨機漫步\n",
        "nsteps = 1000 # 每個隨機漫步都走 1000 步\n",
        "draws = np.random.randint(0, 2, size = (nwalks, nsteps))\n",
        "steps = np.where(draws > 0, 1, -1)\n",
        "walks = steps.cumsum(axis = 1)\n",
        "walks"
      ],
      "metadata": {
        "colab": {
          "base_uri": "https://localhost:8080/"
        },
        "id": "PG4cyWXQkjtQ",
        "outputId": "6aa0b5c7-6985-4198-c6d8-f24296296194"
      },
      "execution_count": 314,
      "outputs": [
        {
          "output_type": "execute_result",
          "data": {
            "text/plain": [
              "array([[  1,   2,   1, ..., -16, -17, -16],\n",
              "       [ -1,  -2,  -3, ..., -60, -61, -60],\n",
              "       [  1,   0,  -1, ..., -10, -11, -12],\n",
              "       ...,\n",
              "       [  1,   2,   3, ...,  -6,  -5,  -6],\n",
              "       [  1,   0,   1, ...,  -2,  -1,   0],\n",
              "       [  1,   2,   1, ...,  36,  35,  34]])"
            ]
          },
          "metadata": {},
          "execution_count": 314
        }
      ]
    },
    {
      "cell_type": "code",
      "source": [
        "walks.shape"
      ],
      "metadata": {
        "colab": {
          "base_uri": "https://localhost:8080/"
        },
        "id": "OJd9xnqWlCGM",
        "outputId": "715e37e3-3ba1-4f21-9593-cee5f0ec35cf"
      },
      "execution_count": 315,
      "outputs": [
        {
          "output_type": "execute_result",
          "data": {
            "text/plain": [
              "(5000, 1000)"
            ]
          },
          "metadata": {},
          "execution_count": 315
        }
      ]
    },
    {
      "cell_type": "code",
      "source": [
        "# 想知道 5000 次模擬裡面有多少次走到了 30 步\n",
        "hist30 = (np.abs(walks) >= 30).any(1) # 按照 1 軸檢查有無 True"
      ],
      "metadata": {
        "id": "LDowZogGltZz"
      },
      "execution_count": 316,
      "outputs": []
    },
    {
      "cell_type": "code",
      "source": [
        "hist30.sum()"
      ],
      "metadata": {
        "colab": {
          "base_uri": "https://localhost:8080/"
        },
        "id": "l30I64V4l-h1",
        "outputId": "211db173-206e-43cf-9182-05f8b1b7260a"
      },
      "execution_count": 317,
      "outputs": [
        {
          "output_type": "execute_result",
          "data": {
            "text/plain": [
              "3411"
            ]
          },
          "metadata": {},
          "execution_count": 317
        }
      ]
    },
    {
      "cell_type": "code",
      "source": [
        "# 計算平均穿越時間\n",
        "crossing_times = (np.abs(walks[hist30]) >= 30).argmax(axis = 1)\n",
        "crossing_times.shape"
      ],
      "metadata": {
        "colab": {
          "base_uri": "https://localhost:8080/"
        },
        "id": "jQscvrIzmbpI",
        "outputId": "d5b6a76f-fbb8-4d5a-a5d5-48f3fd5edc00"
      },
      "execution_count": 318,
      "outputs": [
        {
          "output_type": "execute_result",
          "data": {
            "text/plain": [
              "(3411,)"
            ]
          },
          "metadata": {},
          "execution_count": 318
        }
      ]
    }
  ]
}